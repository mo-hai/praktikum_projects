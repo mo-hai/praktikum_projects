{
 "cells": [
  {
   "cell_type": "markdown",
   "metadata": {},
   "source": [
    "# Определение перспективного тарифа для телеком компании\n",
    "# Описание проекта\n",
    "Заказчик «Мегалайн» — федеральный оператор сотовой связи. Клиентам предлагают два тарифных плана: `«Смарт»` и `«Ультра»`. Чтобы скорректировать рекламный бюджет, коммерческий департамент хочет понять, какой тариф приносит больше денег.\n",
    "\n",
    "Предстоит сделать предварительный анализ тарифов на небольшой выборке клиентов. В нашем распоряжении данные 500 пользователей «Мегалайна»: кто они, откуда, каким тарифом пользуются, сколько звонков и сообщений каждый отправил за 2018 год. Нужно проанализировать поведение клиентов и сделать вывод — какой тариф лучше.  \n",
    "\n",
    "**Описание тарифов**  \n",
    "Тариф `«Смарт»`  \n",
    "Ежемесячная плата: 550 рублей  \n",
    "Включено 500 минут разговора, 50 сообщений и 15 Гб интернет-трафика  \n",
    "Стоимость услуг сверх тарифного пакета:  \n",
    "минута разговора: 3 рубля  \n",
    "сообщение: 3 рубля  \n",
    "1 Гб интернет-трафика: 200 рублей  \n",
    "\n",
    "Тариф `«Ультра»`  \n",
    "Ежемесячная плата: 1950 рублей  \n",
    "Включено 3000 минут разговора, 1000 сообщений и 30 Гб интернет-трафика  \n",
    "Стоимость услуг сверх тарифного пакета:  \n",
    "минута разговора: 1 рубль  \n",
    "сообщение: 1 рубль  \n",
    "1 Гб интернет-трафика: 150 рублей  \n",
    "\n",
    "*«Мегалайн» всегда округляет вверх значения минут и мегабайтов. Если пользователь проговорил всего 1 секунду, в тарифе засчитывается целая минута.*"
   ]
  },
  {
   "cell_type": "markdown",
   "metadata": {},
   "source": [
    "# Описание данных\n",
    "Таблица `users` (информация о пользователях):  \n",
    "*user_id* — уникальный идентификатор пользователя;\n",
    "*first_name* — имя пользователя;\n",
    "*last_name* — фамилия пользователя;\n",
    "*age* — возраст пользователя (годы);\n",
    "*reg_date* — дата подключения тарифа (день, месяц, год);\n",
    "*churn_date* — дата прекращения пользования тарифом (если значение пропущено, то тариф ещё действовал на момент выгрузки данных);\n",
    "*city* — город проживания пользователя;\n",
    "*tariff* — название тарифного плана.\n",
    "\n",
    "Таблица `calls` (информация о звонках):  \n",
    "*id* — уникальный номер звонка;\n",
    "*call_date* — дата звонка;\n",
    "*duration* — длительность звонка в минутах;\n",
    "*user_id* — идентификатор пользователя, сделавшего звонок.\n",
    "\n",
    "Таблица `messages` (информация о сообщениях):  \n",
    "*id* — уникальный номер сообщения;\n",
    "*message_dat* — дата сообщения;\n",
    "*user_id* — идентификатор пользователя, отправившего сообщение.\n",
    "\n",
    "Таблица `internet` (информация об интернет-сессиях):  \n",
    "*id* — уникальный номер сессии;\n",
    "*mb_used* — объём потраченного за сессию интернет-трафика (в мегабайтах);\n",
    "*session_date* — дата интернет-сессии;\n",
    "*user_id* — идентификатор пользователя.\n",
    "\n",
    "Таблица `tariffs` (информация о тарифах):  \n",
    "*tariff_name* — название тарифа;\n",
    "*rub_monthly_fee* — ежемесячная абонентская плата в рублях;\n",
    "*minutes_included* — количество минут разговора в месяц, включённых в абонентскую плату;\n",
    "*messages_included* — количество сообщений в месяц, включённых в абонентскую плату;\n",
    "*mb_per_month_included* — объём интернет-трафика, включённого в абонентскую плату (в мегабайтах);\n",
    "*rub_per_minute* — стоимость минуты разговора сверх тарифного пакета (например, если в тарифе 100 минут разговора в месяц, то со 101 минуты будет взиматься плата);\n",
    "*rub_per_message* — стоимость отправки сообщения сверх тарифного пакета;\n",
    "*rub_per_gb* — стоимость дополнительного гигабайта интернет-трафика сверх тарифного пакета (1 гигабайт = 1024 мегабайта)."
   ]
  },
  {
   "cell_type": "markdown",
   "metadata": {},
   "source": [
    "# План работы   \n",
    "1. **[Предобработка](#1)**\n",
    "    - Объединение датасетов\n",
    "    - Поиск аномалий\n",
    "    - Добавление признаков: помесячная выручка и расходы по месяцам для каждого пользователся\n",
    "2. **[Анализ](#2)**\n",
    "    - Исследование поведения клиентов\n",
    "3. **[Проверка гипотез](#3)**\n",
    "    - Средняя выручка пользователей тарифов «Ультра» и «Смарт» различается\n",
    "    - Средняя выручка пользователей из Москвы отличается от выручки пользователей из других регионов\n",
    "4. **[Выводы](#4)**  "
   ]
  },
  {
   "cell_type": "markdown",
   "metadata": {},
   "source": [
    "### Бибилиотеки"
   ]
  },
  {
   "cell_type": "code",
   "execution_count": 1,
   "metadata": {},
   "outputs": [],
   "source": [
    "from pathlib import Path\n",
    "\n",
    "import pandas as pd\n",
    "\n",
    "# statistics\n",
    "import numpy as np\n",
    "from scipy import stats as st\n",
    "\n",
    "# graphics\n",
    "import matplotlib.pyplot as plt\n",
    "import matplotlib.ticker as ticker\n",
    "import seaborn as sns\n",
    "sns.set(rc={'figure.figsize':(12,3)})\n",
    "\n",
    "# dates\n",
    "from datetime import datetime, timedelta\n",
    "import datetime as dt"
   ]
  },
  {
   "cell_type": "markdown",
   "metadata": {},
   "source": [
    "### Функции"
   ]
  },
  {
   "cell_type": "markdown",
   "metadata": {},
   "source": [
    "Категоризация"
   ]
  },
  {
   "cell_type": "code",
   "execution_count": 2,
   "metadata": {},
   "outputs": [],
   "source": [
    "def group_city(cell):\n",
    "    '''\n",
    "    Takes name of the city and return one of the 3 groups: Москва, Санкт-Петербург или другие.\n",
    "    '''\n",
    "    \n",
    "    if 'Москва' in cell:\n",
    "        return 'Москва'\n",
    "    if 'Санкт-Петербург' in cell:\n",
    "        return 'Санкт-Петербург'\n",
    "    \n",
    "    return 'другие'"
   ]
  },
  {
   "cell_type": "markdown",
   "metadata": {},
   "source": [
    "У каждого пользователя своя точка отсчета, и следовательно свой расчетный месяц.     \n",
    "Функция выделяет этот расчетный месяц."
   ]
  },
  {
   "cell_type": "code",
   "execution_count": 3,
   "metadata": {},
   "outputs": [],
   "source": [
    "def billing_month(row):\n",
    "    '''\n",
    "    Takes row with columns 'reg_date' - starting point, 'date' - date when used. \n",
    "    Esimated billing period is 30 days.\n",
    "    Return billing month of this date.\n",
    "    '''\n",
    "    \n",
    "    start = datetime.strptime(row['reg_date'], '%Y-%m-%d')\n",
    "    month = datetime.strptime(row['reg_date'], '%Y-%m-%d').month\n",
    "    while datetime.strptime(row['date'], '%Y-%m-%d') >= (start + dt.timedelta(days=30)):\n",
    "        start = start + dt.timedelta(days=30)\n",
    "        month +=1\n",
    "        \n",
    "    return month\n",
    "\n",
    "\n",
    "def test_revenue_month():\n",
    "    '''\n",
    "    2 tests for function billing_period()\n",
    "    '''\n",
    "    # test 1\n",
    "    sample_d = {'user_id': ['1000'], \n",
    "         'reg_date': ['2018-05-25'], \n",
    "         'date': ['2018-06-27']}\n",
    "    sample_df = pd.DataFrame(data=sample_d)\n",
    "    sample_df['period'] = sample_df.apply(period, axis=1)\n",
    "    \n",
    "    if sample_df.loc[0, 'period'] == 6:\n",
    "        print('test1 - ok')\n",
    "    else:\n",
    "        print('test1 - fail')\n",
    "        return sample_df\n",
    "    \n",
    "    # test 2\n",
    "    sample_d = {'user_id': ['1000', '1000','1200'], \n",
    "         'reg_date': ['2018-05-25', '2018-05-25', '2018-06-25'], \n",
    "         'date': ['2018-06-05', '2018-08-29', '2018-09-23'], \n",
    "         'calls_duration': ['550', '20','20']}\n",
    "    sample_df = pd.DataFrame(data=sample_d)\n",
    "    sample_df['period'] = sample_df.apply(period, axis=1)\n",
    "    \n",
    "    if sample_df.loc[0, 'period'] == 5 and sample_df.loc[1, 'period'] == 8 and sample_df.loc[2, 'period'] == 9:\n",
    "        print('test2 - ok')\n",
    "    else:\n",
    "        print('test2 - fail')\n",
    "        return sample_df"
   ]
  },
  {
   "cell_type": "markdown",
   "metadata": {},
   "source": [
    "Выручка      \n",
    "- Вычетаем бесплатный лимит из суммарного кол-ва израсходованных минут, сообщений и интернет-трафика; \n",
    "- Остаток умножаем на значение из тарифного плана; \n",
    "- Прибавляем абонентскую плату, соответствующую тарифному плану."
   ]
  },
  {
   "cell_type": "code",
   "execution_count": 4,
   "metadata": {},
   "outputs": [],
   "source": [
    "def calculate_revenue(row):\n",
    "    \n",
    "    '''\n",
    "    Takes rows with columns 'calls_duration', 'messages', 'mb_used' и 'tariff' and return revenue.\n",
    "    All information about tariff takes from 'tariff_dict' dictionary\n",
    "    Internet overrun rounds to Gb.\n",
    "    '''\n",
    "    \n",
    "    if row['calls_duration'] <= tariff_dict['minutes_included'][row['tariff']]:\n",
    "        extra_min = 0\n",
    "    else:\n",
    "        extra_min = row['calls_duration'] - tariff_dict['minutes_included'][row['tariff']]\n",
    "    \n",
    "    if row['messages'] <= tariff_dict['messages_included'][row['tariff']]:\n",
    "        extra_mess = 0\n",
    "    else:\n",
    "        extra_mess = row['messages'] - tariff_dict['messages_included'][row['tariff']]\n",
    "    \n",
    "    if row['mb_used'] <= tariff_dict['mb_per_month_included'][row['tariff']]:\n",
    "        extra_mb = 0\n",
    "    else:\n",
    "        extra_mb = (row['mb_used'] - tariff_dict['mb_per_month_included'][row['tariff']]) // 1024 + 1\n",
    "    \n",
    "    return (extra_min * tariff_dict['rub_per_minute'][row['tariff']] \n",
    "            + extra_mess * tariff_dict['rub_per_message'][row['tariff']]\n",
    "            + extra_mb * tariff_dict['rub_per_gb'][row['tariff']]\n",
    "            + tariff_dict['rub_monthly_fee'][row['tariff']]\n",
    "           )"
   ]
  },
  {
   "cell_type": "markdown",
   "metadata": {},
   "source": [
    "Выделение месяца из даты"
   ]
  },
  {
   "cell_type": "code",
   "execution_count": 5,
   "metadata": {},
   "outputs": [],
   "source": [
    "def extract_month(df, column):\n",
    "    '''\n",
    "    Return month from date in column\n",
    "    '''\n",
    "    df[column+'_m'] = pd.DatetimeIndex(pd.to_datetime(df[column])).month"
   ]
  },
  {
   "cell_type": "markdown",
   "metadata": {},
   "source": [
    "Отрисовка графиков"
   ]
  },
  {
   "cell_type": "code",
   "execution_count": 6,
   "metadata": {},
   "outputs": [],
   "source": [
    "def reg_churn_graph(df):\n",
    "    ax = plt.gca()\n",
    "    ax.bar(df.groupby('reg_date_m')['user_id'].count().index, df.groupby('reg_date_m')['user_id'].count().values)\n",
    "    ax.bar(df.groupby('churn_date_m')['user_id'].count().index, df.groupby('churn_date_m')['user_id'].count().values, alpha=0.6)\n",
    "    ax.legend(['регистрация','закрытие'])\n",
    "    ax.set_title('график притока/оттока клиентов за 2018 год')\n",
    "    ax.set(ylabel='кол-во пользователей', xlabel='месяц')\n",
    "    plt.show()"
   ]
  },
  {
   "cell_type": "markdown",
   "metadata": {},
   "source": [
    "<a id='1'></a>\n",
    "# Этап 1. Предобработка"
   ]
  },
  {
   "cell_type": "markdown",
   "metadata": {},
   "source": [
    "Изучим данные предоставленные телеком компанией"
   ]
  },
  {
   "cell_type": "code",
   "execution_count": 7,
   "metadata": {
    "scrolled": true
   },
   "outputs": [
    {
     "name": "stdout",
     "output_type": "stream",
     "text": [
      "\u001b[1m messages \u001b[0m\n",
      "\u001b[1m Вывод метода info(): \u001b[0m\n",
      "<class 'pandas.core.frame.DataFrame'>\n",
      "RangeIndex: 123036 entries, 0 to 123035\n",
      "Data columns (total 4 columns):\n",
      " #   Column        Non-Null Count   Dtype \n",
      "---  ------        --------------   ----- \n",
      " 0   Unnamed: 0    123036 non-null  int64 \n",
      " 1   id            123036 non-null  object\n",
      " 2   message_date  123036 non-null  object\n",
      " 3   user_id       123036 non-null  int64 \n",
      "dtypes: int64(2), object(2)\n",
      "memory usage: 3.8+ MB\n",
      "\u001b[1m Вывод метода describe(): \u001b[0m\n",
      "          Unnamed: 0        user_id\n",
      "count  123036.000000  123036.000000\n",
      "mean    61517.500000    1256.989410\n",
      "std     35517.578197     143.523967\n",
      "min         0.000000    1000.000000\n",
      "25%     30758.750000    1134.000000\n",
      "50%     61517.500000    1271.000000\n",
      "75%     92276.250000    1381.000000\n",
      "max    123035.000000    1499.000000\n"
     ]
    },
    {
     "data": {
      "text/html": [
       "<div>\n",
       "<style scoped>\n",
       "    .dataframe tbody tr th:only-of-type {\n",
       "        vertical-align: middle;\n",
       "    }\n",
       "\n",
       "    .dataframe tbody tr th {\n",
       "        vertical-align: top;\n",
       "    }\n",
       "\n",
       "    .dataframe thead th {\n",
       "        text-align: right;\n",
       "    }\n",
       "</style>\n",
       "<table border=\"1\" class=\"dataframe\">\n",
       "  <thead>\n",
       "    <tr style=\"text-align: right;\">\n",
       "      <th></th>\n",
       "      <th>Unnamed: 0</th>\n",
       "      <th>id</th>\n",
       "      <th>message_date</th>\n",
       "      <th>user_id</th>\n",
       "    </tr>\n",
       "  </thead>\n",
       "  <tbody>\n",
       "    <tr>\n",
       "      <th>0</th>\n",
       "      <td>0</td>\n",
       "      <td>1000_0</td>\n",
       "      <td>2018-06-27</td>\n",
       "      <td>1000</td>\n",
       "    </tr>\n",
       "    <tr>\n",
       "      <th>1</th>\n",
       "      <td>1</td>\n",
       "      <td>1000_1</td>\n",
       "      <td>2018-10-08</td>\n",
       "      <td>1000</td>\n",
       "    </tr>\n",
       "    <tr>\n",
       "      <th>2</th>\n",
       "      <td>2</td>\n",
       "      <td>1000_2</td>\n",
       "      <td>2018-08-04</td>\n",
       "      <td>1000</td>\n",
       "    </tr>\n",
       "    <tr>\n",
       "      <th>3</th>\n",
       "      <td>3</td>\n",
       "      <td>1000_3</td>\n",
       "      <td>2018-06-16</td>\n",
       "      <td>1000</td>\n",
       "    </tr>\n",
       "    <tr>\n",
       "      <th>4</th>\n",
       "      <td>4</td>\n",
       "      <td>1000_4</td>\n",
       "      <td>2018-12-05</td>\n",
       "      <td>1000</td>\n",
       "    </tr>\n",
       "  </tbody>\n",
       "</table>\n",
       "</div>"
      ],
      "text/plain": [
       "   Unnamed: 0      id message_date  user_id\n",
       "0           0  1000_0   2018-06-27     1000\n",
       "1           1  1000_1   2018-10-08     1000\n",
       "2           2  1000_2   2018-08-04     1000\n",
       "3           3  1000_3   2018-06-16     1000\n",
       "4           4  1000_4   2018-12-05     1000"
      ]
     },
     "metadata": {},
     "output_type": "display_data"
    },
    {
     "name": "stdout",
     "output_type": "stream",
     "text": [
      "\n",
      "\u001b[1m users \u001b[0m\n",
      "\u001b[1m Вывод метода info(): \u001b[0m\n",
      "<class 'pandas.core.frame.DataFrame'>\n",
      "RangeIndex: 500 entries, 0 to 499\n",
      "Data columns (total 9 columns):\n",
      " #   Column      Non-Null Count  Dtype \n",
      "---  ------      --------------  ----- \n",
      " 0   Unnamed: 0  500 non-null    int64 \n",
      " 1   user_id     500 non-null    int64 \n",
      " 2   age         500 non-null    int64 \n",
      " 3   churn_date  38 non-null     object\n",
      " 4   city        500 non-null    object\n",
      " 5   first_name  500 non-null    object\n",
      " 6   last_name   500 non-null    object\n",
      " 7   reg_date    500 non-null    object\n",
      " 8   tariff      500 non-null    object\n",
      "dtypes: int64(3), object(6)\n",
      "memory usage: 35.3+ KB\n",
      "\u001b[1m Вывод метода describe(): \u001b[0m\n",
      "       Unnamed: 0      user_id        age\n",
      "count  500.000000   500.000000  500.00000\n",
      "mean   249.500000  1249.500000   46.58800\n",
      "std    144.481833   144.481833   16.66763\n",
      "min      0.000000  1000.000000   18.00000\n",
      "25%    124.750000  1124.750000   32.00000\n",
      "50%    249.500000  1249.500000   46.00000\n",
      "75%    374.250000  1374.250000   62.00000\n",
      "max    499.000000  1499.000000   75.00000\n"
     ]
    },
    {
     "data": {
      "text/html": [
       "<div>\n",
       "<style scoped>\n",
       "    .dataframe tbody tr th:only-of-type {\n",
       "        vertical-align: middle;\n",
       "    }\n",
       "\n",
       "    .dataframe tbody tr th {\n",
       "        vertical-align: top;\n",
       "    }\n",
       "\n",
       "    .dataframe thead th {\n",
       "        text-align: right;\n",
       "    }\n",
       "</style>\n",
       "<table border=\"1\" class=\"dataframe\">\n",
       "  <thead>\n",
       "    <tr style=\"text-align: right;\">\n",
       "      <th></th>\n",
       "      <th>Unnamed: 0</th>\n",
       "      <th>user_id</th>\n",
       "      <th>age</th>\n",
       "      <th>churn_date</th>\n",
       "      <th>city</th>\n",
       "      <th>first_name</th>\n",
       "      <th>last_name</th>\n",
       "      <th>reg_date</th>\n",
       "      <th>tariff</th>\n",
       "    </tr>\n",
       "  </thead>\n",
       "  <tbody>\n",
       "    <tr>\n",
       "      <th>0</th>\n",
       "      <td>0</td>\n",
       "      <td>1000</td>\n",
       "      <td>52</td>\n",
       "      <td>NaN</td>\n",
       "      <td>Краснодар</td>\n",
       "      <td>Рафаил</td>\n",
       "      <td>Верещагин</td>\n",
       "      <td>2018-05-25</td>\n",
       "      <td>ultra</td>\n",
       "    </tr>\n",
       "    <tr>\n",
       "      <th>1</th>\n",
       "      <td>1</td>\n",
       "      <td>1001</td>\n",
       "      <td>41</td>\n",
       "      <td>NaN</td>\n",
       "      <td>Москва</td>\n",
       "      <td>Иван</td>\n",
       "      <td>Ежов</td>\n",
       "      <td>2018-11-01</td>\n",
       "      <td>smart</td>\n",
       "    </tr>\n",
       "    <tr>\n",
       "      <th>2</th>\n",
       "      <td>2</td>\n",
       "      <td>1002</td>\n",
       "      <td>59</td>\n",
       "      <td>NaN</td>\n",
       "      <td>Стерлитамак</td>\n",
       "      <td>Евгений</td>\n",
       "      <td>Абрамович</td>\n",
       "      <td>2018-06-17</td>\n",
       "      <td>smart</td>\n",
       "    </tr>\n",
       "    <tr>\n",
       "      <th>3</th>\n",
       "      <td>3</td>\n",
       "      <td>1003</td>\n",
       "      <td>23</td>\n",
       "      <td>NaN</td>\n",
       "      <td>Москва</td>\n",
       "      <td>Белла</td>\n",
       "      <td>Белякова</td>\n",
       "      <td>2018-08-17</td>\n",
       "      <td>ultra</td>\n",
       "    </tr>\n",
       "    <tr>\n",
       "      <th>4</th>\n",
       "      <td>4</td>\n",
       "      <td>1004</td>\n",
       "      <td>68</td>\n",
       "      <td>NaN</td>\n",
       "      <td>Новокузнецк</td>\n",
       "      <td>Татьяна</td>\n",
       "      <td>Авдеенко</td>\n",
       "      <td>2018-05-14</td>\n",
       "      <td>ultra</td>\n",
       "    </tr>\n",
       "  </tbody>\n",
       "</table>\n",
       "</div>"
      ],
      "text/plain": [
       "   Unnamed: 0  user_id  age churn_date         city first_name  last_name  \\\n",
       "0           0     1000   52        NaN    Краснодар     Рафаил  Верещагин   \n",
       "1           1     1001   41        NaN       Москва       Иван       Ежов   \n",
       "2           2     1002   59        NaN  Стерлитамак    Евгений  Абрамович   \n",
       "3           3     1003   23        NaN       Москва      Белла   Белякова   \n",
       "4           4     1004   68        NaN  Новокузнецк    Татьяна   Авдеенко   \n",
       "\n",
       "     reg_date tariff  \n",
       "0  2018-05-25  ultra  \n",
       "1  2018-11-01  smart  \n",
       "2  2018-06-17  smart  \n",
       "3  2018-08-17  ultra  \n",
       "4  2018-05-14  ultra  "
      ]
     },
     "metadata": {},
     "output_type": "display_data"
    },
    {
     "name": "stdout",
     "output_type": "stream",
     "text": [
      "\n",
      "\u001b[1m calls \u001b[0m\n",
      "\u001b[1m Вывод метода info(): \u001b[0m\n",
      "<class 'pandas.core.frame.DataFrame'>\n",
      "RangeIndex: 202607 entries, 0 to 202606\n",
      "Data columns (total 5 columns):\n",
      " #   Column      Non-Null Count   Dtype  \n",
      "---  ------      --------------   -----  \n",
      " 0   Unnamed: 0  202607 non-null  int64  \n",
      " 1   id          202607 non-null  object \n",
      " 2   call_date   202607 non-null  object \n",
      " 3   duration    202607 non-null  float64\n",
      " 4   user_id     202607 non-null  int64  \n",
      "dtypes: float64(1), int64(2), object(2)\n",
      "memory usage: 7.7+ MB\n",
      "\u001b[1m Вывод метода describe(): \u001b[0m\n",
      "          Unnamed: 0       duration        user_id\n",
      "count  202607.000000  202607.000000  202607.000000\n",
      "mean   101303.000000       6.755887    1253.940619\n",
      "std     58487.747332       5.843365     144.722751\n",
      "min         0.000000       0.000000    1000.000000\n",
      "25%     50651.500000       1.300000    1126.000000\n",
      "50%    101303.000000       6.000000    1260.000000\n",
      "75%    151954.500000      10.700000    1379.000000\n",
      "max    202606.000000      38.000000    1499.000000\n"
     ]
    },
    {
     "data": {
      "text/html": [
       "<div>\n",
       "<style scoped>\n",
       "    .dataframe tbody tr th:only-of-type {\n",
       "        vertical-align: middle;\n",
       "    }\n",
       "\n",
       "    .dataframe tbody tr th {\n",
       "        vertical-align: top;\n",
       "    }\n",
       "\n",
       "    .dataframe thead th {\n",
       "        text-align: right;\n",
       "    }\n",
       "</style>\n",
       "<table border=\"1\" class=\"dataframe\">\n",
       "  <thead>\n",
       "    <tr style=\"text-align: right;\">\n",
       "      <th></th>\n",
       "      <th>Unnamed: 0</th>\n",
       "      <th>id</th>\n",
       "      <th>call_date</th>\n",
       "      <th>duration</th>\n",
       "      <th>user_id</th>\n",
       "    </tr>\n",
       "  </thead>\n",
       "  <tbody>\n",
       "    <tr>\n",
       "      <th>0</th>\n",
       "      <td>0</td>\n",
       "      <td>1000_0</td>\n",
       "      <td>2018-07-25</td>\n",
       "      <td>0.00</td>\n",
       "      <td>1000</td>\n",
       "    </tr>\n",
       "    <tr>\n",
       "      <th>1</th>\n",
       "      <td>1</td>\n",
       "      <td>1000_1</td>\n",
       "      <td>2018-08-17</td>\n",
       "      <td>0.00</td>\n",
       "      <td>1000</td>\n",
       "    </tr>\n",
       "    <tr>\n",
       "      <th>2</th>\n",
       "      <td>2</td>\n",
       "      <td>1000_2</td>\n",
       "      <td>2018-06-11</td>\n",
       "      <td>2.85</td>\n",
       "      <td>1000</td>\n",
       "    </tr>\n",
       "    <tr>\n",
       "      <th>3</th>\n",
       "      <td>3</td>\n",
       "      <td>1000_3</td>\n",
       "      <td>2018-09-21</td>\n",
       "      <td>13.80</td>\n",
       "      <td>1000</td>\n",
       "    </tr>\n",
       "    <tr>\n",
       "      <th>4</th>\n",
       "      <td>4</td>\n",
       "      <td>1000_4</td>\n",
       "      <td>2018-12-15</td>\n",
       "      <td>5.18</td>\n",
       "      <td>1000</td>\n",
       "    </tr>\n",
       "  </tbody>\n",
       "</table>\n",
       "</div>"
      ],
      "text/plain": [
       "   Unnamed: 0      id   call_date  duration  user_id\n",
       "0           0  1000_0  2018-07-25      0.00     1000\n",
       "1           1  1000_1  2018-08-17      0.00     1000\n",
       "2           2  1000_2  2018-06-11      2.85     1000\n",
       "3           3  1000_3  2018-09-21     13.80     1000\n",
       "4           4  1000_4  2018-12-15      5.18     1000"
      ]
     },
     "metadata": {},
     "output_type": "display_data"
    },
    {
     "name": "stdout",
     "output_type": "stream",
     "text": [
      "\n",
      "\u001b[1m internet \u001b[0m\n",
      "\u001b[1m Вывод метода info(): \u001b[0m\n",
      "<class 'pandas.core.frame.DataFrame'>\n",
      "RangeIndex: 149396 entries, 0 to 149395\n",
      "Data columns (total 6 columns):\n",
      " #   Column        Non-Null Count   Dtype  \n",
      "---  ------        --------------   -----  \n",
      " 0   Unnamed: 0    149396 non-null  int64  \n",
      " 1   Unnamed: 0.1  149396 non-null  int64  \n",
      " 2   id            149396 non-null  object \n",
      " 3   mb_used       149396 non-null  float64\n",
      " 4   session_date  149396 non-null  object \n",
      " 5   user_id       149396 non-null  int64  \n",
      "dtypes: float64(1), int64(3), object(2)\n",
      "memory usage: 6.8+ MB\n",
      "\u001b[1m Вывод метода describe(): \u001b[0m\n",
      "          Unnamed: 0   Unnamed: 0.1        mb_used        user_id\n",
      "count  149396.000000  149396.000000  149396.000000  149396.000000\n",
      "mean    74697.500000   74697.500000     370.192426    1252.099842\n",
      "std     43127.054745   43127.054745     278.300951     144.050823\n",
      "min         0.000000       0.000000       0.000000    1000.000000\n",
      "25%     37348.750000   37348.750000     138.187500    1130.000000\n",
      "50%     74697.500000   74697.500000     348.015000    1251.000000\n",
      "75%    112046.250000  112046.250000     559.552500    1380.000000\n",
      "max    149395.000000  149395.000000    1724.830000    1499.000000\n"
     ]
    },
    {
     "data": {
      "text/html": [
       "<div>\n",
       "<style scoped>\n",
       "    .dataframe tbody tr th:only-of-type {\n",
       "        vertical-align: middle;\n",
       "    }\n",
       "\n",
       "    .dataframe tbody tr th {\n",
       "        vertical-align: top;\n",
       "    }\n",
       "\n",
       "    .dataframe thead th {\n",
       "        text-align: right;\n",
       "    }\n",
       "</style>\n",
       "<table border=\"1\" class=\"dataframe\">\n",
       "  <thead>\n",
       "    <tr style=\"text-align: right;\">\n",
       "      <th></th>\n",
       "      <th>Unnamed: 0</th>\n",
       "      <th>Unnamed: 0.1</th>\n",
       "      <th>id</th>\n",
       "      <th>mb_used</th>\n",
       "      <th>session_date</th>\n",
       "      <th>user_id</th>\n",
       "    </tr>\n",
       "  </thead>\n",
       "  <tbody>\n",
       "    <tr>\n",
       "      <th>0</th>\n",
       "      <td>0</td>\n",
       "      <td>0</td>\n",
       "      <td>1000_0</td>\n",
       "      <td>112.95</td>\n",
       "      <td>2018-11-25</td>\n",
       "      <td>1000</td>\n",
       "    </tr>\n",
       "    <tr>\n",
       "      <th>1</th>\n",
       "      <td>1</td>\n",
       "      <td>1</td>\n",
       "      <td>1000_1</td>\n",
       "      <td>1052.81</td>\n",
       "      <td>2018-09-07</td>\n",
       "      <td>1000</td>\n",
       "    </tr>\n",
       "    <tr>\n",
       "      <th>2</th>\n",
       "      <td>2</td>\n",
       "      <td>2</td>\n",
       "      <td>1000_2</td>\n",
       "      <td>1197.26</td>\n",
       "      <td>2018-06-25</td>\n",
       "      <td>1000</td>\n",
       "    </tr>\n",
       "    <tr>\n",
       "      <th>3</th>\n",
       "      <td>3</td>\n",
       "      <td>3</td>\n",
       "      <td>1000_3</td>\n",
       "      <td>550.27</td>\n",
       "      <td>2018-08-22</td>\n",
       "      <td>1000</td>\n",
       "    </tr>\n",
       "    <tr>\n",
       "      <th>4</th>\n",
       "      <td>4</td>\n",
       "      <td>4</td>\n",
       "      <td>1000_4</td>\n",
       "      <td>302.56</td>\n",
       "      <td>2018-09-24</td>\n",
       "      <td>1000</td>\n",
       "    </tr>\n",
       "  </tbody>\n",
       "</table>\n",
       "</div>"
      ],
      "text/plain": [
       "   Unnamed: 0  Unnamed: 0.1      id  mb_used session_date  user_id\n",
       "0           0             0  1000_0   112.95   2018-11-25     1000\n",
       "1           1             1  1000_1  1052.81   2018-09-07     1000\n",
       "2           2             2  1000_2  1197.26   2018-06-25     1000\n",
       "3           3             3  1000_3   550.27   2018-08-22     1000\n",
       "4           4             4  1000_4   302.56   2018-09-24     1000"
      ]
     },
     "metadata": {},
     "output_type": "display_data"
    },
    {
     "name": "stdout",
     "output_type": "stream",
     "text": [
      "\n",
      "\u001b[1m tariffs \u001b[0m\n",
      "\u001b[1m Вывод метода info(): \u001b[0m\n",
      "<class 'pandas.core.frame.DataFrame'>\n",
      "RangeIndex: 2 entries, 0 to 1\n",
      "Data columns (total 9 columns):\n",
      " #   Column                 Non-Null Count  Dtype \n",
      "---  ------                 --------------  ----- \n",
      " 0   Unnamed: 0             2 non-null      int64 \n",
      " 1   messages_included      2 non-null      int64 \n",
      " 2   mb_per_month_included  2 non-null      int64 \n",
      " 3   minutes_included       2 non-null      int64 \n",
      " 4   rub_monthly_fee        2 non-null      int64 \n",
      " 5   rub_per_gb             2 non-null      int64 \n",
      " 6   rub_per_message        2 non-null      int64 \n",
      " 7   rub_per_minute         2 non-null      int64 \n",
      " 8   tariff_name            2 non-null      object\n",
      "dtypes: int64(8), object(1)\n",
      "memory usage: 272.0+ bytes\n",
      "\u001b[1m Вывод метода describe(): \u001b[0m\n",
      "       Unnamed: 0  messages_included  mb_per_month_included  minutes_included  \\\n",
      "count    2.000000           2.000000               2.000000          2.000000   \n",
      "mean     0.500000         525.000000           23040.000000       1750.000000   \n",
      "std      0.707107         671.751442           10861.160159       1767.766953   \n",
      "min      0.000000          50.000000           15360.000000        500.000000   \n",
      "25%      0.250000         287.500000           19200.000000       1125.000000   \n",
      "50%      0.500000         525.000000           23040.000000       1750.000000   \n",
      "75%      0.750000         762.500000           26880.000000       2375.000000   \n",
      "max      1.000000        1000.000000           30720.000000       3000.000000   \n",
      "\n",
      "       rub_monthly_fee  rub_per_gb  rub_per_message  rub_per_minute  \n",
      "count         2.000000    2.000000         2.000000        2.000000  \n",
      "mean       1250.000000  175.000000         2.000000        2.000000  \n",
      "std         989.949494   35.355339         1.414214        1.414214  \n",
      "min         550.000000  150.000000         1.000000        1.000000  \n",
      "25%         900.000000  162.500000         1.500000        1.500000  \n",
      "50%        1250.000000  175.000000         2.000000        2.000000  \n",
      "75%        1600.000000  187.500000         2.500000        2.500000  \n",
      "max        1950.000000  200.000000         3.000000        3.000000  \n"
     ]
    },
    {
     "data": {
      "text/html": [
       "<div>\n",
       "<style scoped>\n",
       "    .dataframe tbody tr th:only-of-type {\n",
       "        vertical-align: middle;\n",
       "    }\n",
       "\n",
       "    .dataframe tbody tr th {\n",
       "        vertical-align: top;\n",
       "    }\n",
       "\n",
       "    .dataframe thead th {\n",
       "        text-align: right;\n",
       "    }\n",
       "</style>\n",
       "<table border=\"1\" class=\"dataframe\">\n",
       "  <thead>\n",
       "    <tr style=\"text-align: right;\">\n",
       "      <th></th>\n",
       "      <th>Unnamed: 0</th>\n",
       "      <th>messages_included</th>\n",
       "      <th>mb_per_month_included</th>\n",
       "      <th>minutes_included</th>\n",
       "      <th>rub_monthly_fee</th>\n",
       "      <th>rub_per_gb</th>\n",
       "      <th>rub_per_message</th>\n",
       "      <th>rub_per_minute</th>\n",
       "      <th>tariff_name</th>\n",
       "    </tr>\n",
       "  </thead>\n",
       "  <tbody>\n",
       "    <tr>\n",
       "      <th>0</th>\n",
       "      <td>0</td>\n",
       "      <td>50</td>\n",
       "      <td>15360</td>\n",
       "      <td>500</td>\n",
       "      <td>550</td>\n",
       "      <td>200</td>\n",
       "      <td>3</td>\n",
       "      <td>3</td>\n",
       "      <td>smart</td>\n",
       "    </tr>\n",
       "    <tr>\n",
       "      <th>1</th>\n",
       "      <td>1</td>\n",
       "      <td>1000</td>\n",
       "      <td>30720</td>\n",
       "      <td>3000</td>\n",
       "      <td>1950</td>\n",
       "      <td>150</td>\n",
       "      <td>1</td>\n",
       "      <td>1</td>\n",
       "      <td>ultra</td>\n",
       "    </tr>\n",
       "  </tbody>\n",
       "</table>\n",
       "</div>"
      ],
      "text/plain": [
       "   Unnamed: 0  messages_included  mb_per_month_included  minutes_included  \\\n",
       "0           0                 50                  15360               500   \n",
       "1           1               1000                  30720              3000   \n",
       "\n",
       "   rub_monthly_fee  rub_per_gb  rub_per_message  rub_per_minute tariff_name  \n",
       "0              550         200                3               3       smart  \n",
       "1             1950         150                1               1       ultra  "
      ]
     },
     "metadata": {},
     "output_type": "display_data"
    },
    {
     "name": "stdout",
     "output_type": "stream",
     "text": [
      "\n"
     ]
    }
   ],
   "source": [
    "path = '/datasets'\n",
    "\n",
    "# read all csv files in path and store in 'dfs' dictionary by filename\n",
    "dfs = {}\n",
    "data_dir = Path(path)\n",
    "for csv_file in data_dir.glob('*.csv'):\n",
    "    file_name = csv_file.parts[-1].split('.')[0]\n",
    "    dfs[file_name] = pd.read_csv(csv_file)\n",
    "\n",
    "for df in dfs:\n",
    "    print('\\033[1m', df, '\\033[0m')\n",
    "    print ('\\033[1m Вывод метода info(): \\033[0m')\n",
    "    dfs[df].info()\n",
    "    print ('\\033[1m Вывод метода describe(): \\033[0m')\n",
    "    print(dfs[df].describe())\n",
    "    display(dfs[df].head())\n",
    "    print()"
   ]
  },
  {
   "cell_type": "code",
   "execution_count": 8,
   "metadata": {},
   "outputs": [
    {
     "name": "stdout",
     "output_type": "stream",
     "text": [
      "Кол-во пользователей тарифа smart: 351\n",
      "Кол-во пользователей тарифа ultra: 149\n"
     ]
    }
   ],
   "source": [
    "print('Кол-во пользователей тарифа smart:', dfs['users'].query('tariff == \"smart\"')['user_id'].count())\n",
    "print('Кол-во пользователей тарифа ultra:', dfs['users'].query('tariff == \"ultra\"')['user_id'].count())"
   ]
  },
  {
   "cell_type": "markdown",
   "metadata": {},
   "source": [
    "- Данных немного\n",
    "- Пропуски есть только в столбце `churn_date` таблицы users, что логично\n",
    "- Есть странный столбец `Unnamed: 0`, похоже на задвоенный индекс\n",
    "- Таблицы calls, messages, internet можно схлопнуть, а из таблицы users добавим необходимые для решения задачи данные - город, тариф, дата выхода из тарифа и дату регистрации.\n",
    "- Таблицу tariff можно преобразовать в словарь и использовать при необходимости"
   ]
  },
  {
   "cell_type": "code",
   "execution_count": 9,
   "metadata": {},
   "outputs": [],
   "source": [
    "for df_name in dfs.keys():\n",
    "    dfs[df_name] = dfs[df_name].drop('Unnamed: 0', axis=1)"
   ]
  },
  {
   "cell_type": "markdown",
   "metadata": {},
   "source": [
    "### Округление минут и мегабайтов\n",
    "«Мегалайн» всегда округляет вверх значения минут и мегабайтов, поэтому сразу округлим эти значения в таблицах"
   ]
  },
  {
   "cell_type": "code",
   "execution_count": 10,
   "metadata": {},
   "outputs": [],
   "source": [
    "dfs['calls']['duration'] = np.ceil(dfs['calls']['duration']).astype(int)\n",
    "dfs['internet']['mb_used'] = np.ceil(dfs['internet']['mb_used']).astype(int)"
   ]
  },
  {
   "cell_type": "markdown",
   "metadata": {},
   "source": [
    "### Из таблицы tariff cделаем словарь"
   ]
  },
  {
   "cell_type": "code",
   "execution_count": 11,
   "metadata": {},
   "outputs": [
    {
     "data": {
      "text/plain": [
       "{'messages_included': {'smart': 50, 'ultra': 1000},\n",
       " 'mb_per_month_included': {'smart': 15360, 'ultra': 30720},\n",
       " 'minutes_included': {'smart': 500, 'ultra': 3000},\n",
       " 'rub_monthly_fee': {'smart': 550, 'ultra': 1950},\n",
       " 'rub_per_gb': {'smart': 200, 'ultra': 150},\n",
       " 'rub_per_message': {'smart': 3, 'ultra': 1},\n",
       " 'rub_per_minute': {'smart': 3, 'ultra': 1}}"
      ]
     },
     "execution_count": 11,
     "metadata": {},
     "output_type": "execute_result"
    }
   ],
   "source": [
    "tariff_dict = dfs['tariffs'].set_index('tariff_name').to_dict()\n",
    "tariff_dict"
   ]
  },
  {
   "cell_type": "markdown",
   "metadata": {},
   "source": [
    "## Объединие таблиц\n",
    "Для дальнейшего объединения сделаем сводные таблицы для calls, messages и internet за индекс возьмем `user_id` и `date`"
   ]
  },
  {
   "cell_type": "code",
   "execution_count": 12,
   "metadata": {},
   "outputs": [
    {
     "data": {
      "text/html": [
       "<div>\n",
       "<style scoped>\n",
       "    .dataframe tbody tr th:only-of-type {\n",
       "        vertical-align: middle;\n",
       "    }\n",
       "\n",
       "    .dataframe tbody tr th {\n",
       "        vertical-align: top;\n",
       "    }\n",
       "\n",
       "    .dataframe thead th {\n",
       "        text-align: right;\n",
       "    }\n",
       "</style>\n",
       "<table border=\"1\" class=\"dataframe\">\n",
       "  <thead>\n",
       "    <tr style=\"text-align: right;\">\n",
       "      <th></th>\n",
       "      <th></th>\n",
       "      <th>calls_duration</th>\n",
       "      <th>calls_qty</th>\n",
       "    </tr>\n",
       "    <tr>\n",
       "      <th>user_id</th>\n",
       "      <th>date</th>\n",
       "      <th></th>\n",
       "      <th></th>\n",
       "    </tr>\n",
       "  </thead>\n",
       "  <tbody>\n",
       "    <tr>\n",
       "      <th rowspan=\"2\" valign=\"top\">1000</th>\n",
       "      <th>2018-05-25</th>\n",
       "      <td>0</td>\n",
       "      <td>1</td>\n",
       "    </tr>\n",
       "    <tr>\n",
       "      <th>2018-05-26</th>\n",
       "      <td>50</td>\n",
       "      <td>6</td>\n",
       "    </tr>\n",
       "  </tbody>\n",
       "</table>\n",
       "</div>"
      ],
      "text/plain": [
       "                    calls_duration  calls_qty\n",
       "user_id date                                 \n",
       "1000    2018-05-25               0          1\n",
       "        2018-05-26              50          6"
      ]
     },
     "metadata": {},
     "output_type": "display_data"
    },
    {
     "data": {
      "text/html": [
       "<div>\n",
       "<style scoped>\n",
       "    .dataframe tbody tr th:only-of-type {\n",
       "        vertical-align: middle;\n",
       "    }\n",
       "\n",
       "    .dataframe tbody tr th {\n",
       "        vertical-align: top;\n",
       "    }\n",
       "\n",
       "    .dataframe thead th {\n",
       "        text-align: right;\n",
       "    }\n",
       "</style>\n",
       "<table border=\"1\" class=\"dataframe\">\n",
       "  <thead>\n",
       "    <tr style=\"text-align: right;\">\n",
       "      <th></th>\n",
       "      <th></th>\n",
       "      <th>messages</th>\n",
       "    </tr>\n",
       "    <tr>\n",
       "      <th>user_id</th>\n",
       "      <th>date</th>\n",
       "      <th></th>\n",
       "    </tr>\n",
       "  </thead>\n",
       "  <tbody>\n",
       "    <tr>\n",
       "      <th rowspan=\"2\" valign=\"top\">1000</th>\n",
       "      <th>2018-05-25</th>\n",
       "      <td>2</td>\n",
       "    </tr>\n",
       "    <tr>\n",
       "      <th>2018-05-27</th>\n",
       "      <td>2</td>\n",
       "    </tr>\n",
       "  </tbody>\n",
       "</table>\n",
       "</div>"
      ],
      "text/plain": [
       "                    messages\n",
       "user_id date                \n",
       "1000    2018-05-25         2\n",
       "        2018-05-27         2"
      ]
     },
     "metadata": {},
     "output_type": "display_data"
    },
    {
     "data": {
      "text/html": [
       "<div>\n",
       "<style scoped>\n",
       "    .dataframe tbody tr th:only-of-type {\n",
       "        vertical-align: middle;\n",
       "    }\n",
       "\n",
       "    .dataframe tbody tr th {\n",
       "        vertical-align: top;\n",
       "    }\n",
       "\n",
       "    .dataframe thead th {\n",
       "        text-align: right;\n",
       "    }\n",
       "</style>\n",
       "<table border=\"1\" class=\"dataframe\">\n",
       "  <thead>\n",
       "    <tr style=\"text-align: right;\">\n",
       "      <th></th>\n",
       "      <th></th>\n",
       "      <th>mb_used</th>\n",
       "    </tr>\n",
       "    <tr>\n",
       "      <th>user_id</th>\n",
       "      <th>date</th>\n",
       "      <th></th>\n",
       "    </tr>\n",
       "  </thead>\n",
       "  <tbody>\n",
       "    <tr>\n",
       "      <th rowspan=\"2\" valign=\"top\">1000</th>\n",
       "      <th>2018-05-26</th>\n",
       "      <td>0</td>\n",
       "    </tr>\n",
       "    <tr>\n",
       "      <th>2018-05-28</th>\n",
       "      <td>909</td>\n",
       "    </tr>\n",
       "  </tbody>\n",
       "</table>\n",
       "</div>"
      ],
      "text/plain": [
       "                    mb_used\n",
       "user_id date               \n",
       "1000    2018-05-26        0\n",
       "        2018-05-28      909"
      ]
     },
     "metadata": {},
     "output_type": "display_data"
    }
   ],
   "source": [
    "# Calls and minutes during the day for each client\n",
    "dfs['calls'] = dfs['calls'].rename(columns={'call_date':'date'})\n",
    "df_calls = dfs['calls'].pivot_table(index=['user_id','date'], aggfunc=['sum', 'count'], fill_value=0)\n",
    "df_calls.columns = ['calls_duration', 'calls_qty', 'id']\n",
    "df_calls = df_calls.drop(['id'], axis='columns')\n",
    "display(df_calls.head(2))\n",
    "\n",
    "#  Messages during the day for each client\n",
    "dfs['messages'] = dfs['messages'].rename(columns={'message_date':'date'})\n",
    "df_messages = dfs['messages'].pivot_table(index=['user_id','date'], aggfunc='count', fill_value=0)\n",
    "df_messages = df_messages.rename(columns={'id':'messages'})\n",
    "display(df_messages.head(2))\n",
    "\n",
    "# Used internet during the day for each client\n",
    "dfs['internet'] = dfs['internet'].rename(columns={'session_date':'date'}).drop('Unnamed: 0.1', axis=1)\n",
    "df_internet = dfs['internet'].pivot_table(index=['user_id','date'], aggfunc='sum', fill_value=0)\n",
    "display(df_internet.head(2))"
   ]
  },
  {
   "cell_type": "markdown",
   "metadata": {},
   "source": [
    "Объединим таблицы calls, messages и internet и добавим нужные столбцы из таблицы 'users'"
   ]
  },
  {
   "cell_type": "code",
   "execution_count": 13,
   "metadata": {},
   "outputs": [
    {
     "data": {
      "text/html": [
       "<div>\n",
       "<style scoped>\n",
       "    .dataframe tbody tr th:only-of-type {\n",
       "        vertical-align: middle;\n",
       "    }\n",
       "\n",
       "    .dataframe tbody tr th {\n",
       "        vertical-align: top;\n",
       "    }\n",
       "\n",
       "    .dataframe thead th {\n",
       "        text-align: right;\n",
       "    }\n",
       "</style>\n",
       "<table border=\"1\" class=\"dataframe\">\n",
       "  <thead>\n",
       "    <tr style=\"text-align: right;\">\n",
       "      <th></th>\n",
       "      <th>user_id</th>\n",
       "      <th>date</th>\n",
       "      <th>calls_duration</th>\n",
       "      <th>calls_qty</th>\n",
       "      <th>messages</th>\n",
       "      <th>mb_used</th>\n",
       "      <th>city</th>\n",
       "      <th>churn_date</th>\n",
       "      <th>reg_date</th>\n",
       "      <th>tariff</th>\n",
       "    </tr>\n",
       "  </thead>\n",
       "  <tbody>\n",
       "    <tr>\n",
       "      <th>0</th>\n",
       "      <td>1000</td>\n",
       "      <td>2018-05-25</td>\n",
       "      <td>0</td>\n",
       "      <td>1</td>\n",
       "      <td>2</td>\n",
       "      <td>0</td>\n",
       "      <td>Краснодар</td>\n",
       "      <td>NaN</td>\n",
       "      <td>2018-05-25</td>\n",
       "      <td>ultra</td>\n",
       "    </tr>\n",
       "    <tr>\n",
       "      <th>1</th>\n",
       "      <td>1000</td>\n",
       "      <td>2018-05-26</td>\n",
       "      <td>50</td>\n",
       "      <td>6</td>\n",
       "      <td>0</td>\n",
       "      <td>0</td>\n",
       "      <td>Краснодар</td>\n",
       "      <td>NaN</td>\n",
       "      <td>2018-05-25</td>\n",
       "      <td>ultra</td>\n",
       "    </tr>\n",
       "    <tr>\n",
       "      <th>2</th>\n",
       "      <td>1000</td>\n",
       "      <td>2018-05-27</td>\n",
       "      <td>4</td>\n",
       "      <td>1</td>\n",
       "      <td>2</td>\n",
       "      <td>0</td>\n",
       "      <td>Краснодар</td>\n",
       "      <td>NaN</td>\n",
       "      <td>2018-05-25</td>\n",
       "      <td>ultra</td>\n",
       "    </tr>\n",
       "    <tr>\n",
       "      <th>3</th>\n",
       "      <td>1000</td>\n",
       "      <td>2018-05-28</td>\n",
       "      <td>28</td>\n",
       "      <td>4</td>\n",
       "      <td>6</td>\n",
       "      <td>909</td>\n",
       "      <td>Краснодар</td>\n",
       "      <td>NaN</td>\n",
       "      <td>2018-05-25</td>\n",
       "      <td>ultra</td>\n",
       "    </tr>\n",
       "    <tr>\n",
       "      <th>4</th>\n",
       "      <td>1000</td>\n",
       "      <td>2018-05-29</td>\n",
       "      <td>13</td>\n",
       "      <td>2</td>\n",
       "      <td>6</td>\n",
       "      <td>0</td>\n",
       "      <td>Краснодар</td>\n",
       "      <td>NaN</td>\n",
       "      <td>2018-05-25</td>\n",
       "      <td>ultra</td>\n",
       "    </tr>\n",
       "  </tbody>\n",
       "</table>\n",
       "</div>"
      ],
      "text/plain": [
       "   user_id        date  calls_duration  calls_qty  messages  mb_used  \\\n",
       "0     1000  2018-05-25               0          1         2        0   \n",
       "1     1000  2018-05-26              50          6         0        0   \n",
       "2     1000  2018-05-27               4          1         2        0   \n",
       "3     1000  2018-05-28              28          4         6      909   \n",
       "4     1000  2018-05-29              13          2         6        0   \n",
       "\n",
       "        city churn_date    reg_date tariff  \n",
       "0  Краснодар        NaN  2018-05-25  ultra  \n",
       "1  Краснодар        NaN  2018-05-25  ultra  \n",
       "2  Краснодар        NaN  2018-05-25  ultra  \n",
       "3  Краснодар        NaN  2018-05-25  ultra  \n",
       "4  Краснодар        NaN  2018-05-25  ultra  "
      ]
     },
     "execution_count": 13,
     "metadata": {},
     "output_type": "execute_result"
    }
   ],
   "source": [
    "df = df_calls \\\n",
    "    .merge(df_messages, on=['user_id','date'], how='outer') \\\n",
    "    .merge(df_internet, on=['user_id','date'], how='outer') \\\n",
    "    .reset_index() \\\n",
    "    .merge(dfs['users'][['user_id', 'city','churn_date', 'reg_date', 'tariff']], on='user_id', how='outer')\n",
    "\n",
    "numeric_columns = ['calls_duration', 'calls_qty','messages', 'mb_used']\n",
    "\n",
    "df[numeric_columns] = df[numeric_columns].fillna(0)\n",
    "for col_name in numeric_columns:\n",
    "    df[col_name] = df[col_name].astype(int)\n",
    "\n",
    "df.head()"
   ]
  },
  {
   "cell_type": "markdown",
   "metadata": {},
   "source": [
    "## Проверим данные на аномалии"
   ]
  },
  {
   "cell_type": "code",
   "execution_count": 14,
   "metadata": {},
   "outputs": [
    {
     "data": {
      "text/plain": [
       "0"
      ]
     },
     "execution_count": 14,
     "metadata": {},
     "output_type": "execute_result"
    }
   ],
   "source": [
    "df.duplicated().sum()"
   ]
  },
  {
   "cell_type": "code",
   "execution_count": 15,
   "metadata": {},
   "outputs": [
    {
     "data": {
      "text/plain": [
       "user_id               0\n",
       "date                  2\n",
       "calls_duration        0\n",
       "calls_qty             0\n",
       "messages              0\n",
       "mb_used               0\n",
       "city                  0\n",
       "churn_date        84329\n",
       "reg_date              0\n",
       "tariff                0\n",
       "dtype: int64"
      ]
     },
     "execution_count": 15,
     "metadata": {},
     "output_type": "execute_result"
    }
   ],
   "source": [
    "df.isnull().sum()"
   ]
  },
  {
   "cell_type": "markdown",
   "metadata": {},
   "source": [
    "Появилось два пропуска в date"
   ]
  },
  {
   "cell_type": "code",
   "execution_count": 16,
   "metadata": {},
   "outputs": [
    {
     "data": {
      "text/html": [
       "<div>\n",
       "<style scoped>\n",
       "    .dataframe tbody tr th:only-of-type {\n",
       "        vertical-align: middle;\n",
       "    }\n",
       "\n",
       "    .dataframe tbody tr th {\n",
       "        vertical-align: top;\n",
       "    }\n",
       "\n",
       "    .dataframe thead th {\n",
       "        text-align: right;\n",
       "    }\n",
       "</style>\n",
       "<table border=\"1\" class=\"dataframe\">\n",
       "  <thead>\n",
       "    <tr style=\"text-align: right;\">\n",
       "      <th></th>\n",
       "      <th>user_id</th>\n",
       "      <th>date</th>\n",
       "      <th>calls_duration</th>\n",
       "      <th>calls_qty</th>\n",
       "      <th>messages</th>\n",
       "      <th>mb_used</th>\n",
       "      <th>city</th>\n",
       "      <th>churn_date</th>\n",
       "      <th>reg_date</th>\n",
       "      <th>tariff</th>\n",
       "    </tr>\n",
       "  </thead>\n",
       "  <tbody>\n",
       "    <tr>\n",
       "      <th>88942</th>\n",
       "      <td>1128</td>\n",
       "      <td>NaN</td>\n",
       "      <td>0</td>\n",
       "      <td>0</td>\n",
       "      <td>0</td>\n",
       "      <td>0</td>\n",
       "      <td>Волжский</td>\n",
       "      <td>2018-12-23</td>\n",
       "      <td>2018-12-15</td>\n",
       "      <td>ultra</td>\n",
       "    </tr>\n",
       "    <tr>\n",
       "      <th>88943</th>\n",
       "      <td>1371</td>\n",
       "      <td>NaN</td>\n",
       "      <td>0</td>\n",
       "      <td>0</td>\n",
       "      <td>0</td>\n",
       "      <td>0</td>\n",
       "      <td>Омск</td>\n",
       "      <td>2018-12-30</td>\n",
       "      <td>2018-12-25</td>\n",
       "      <td>smart</td>\n",
       "    </tr>\n",
       "  </tbody>\n",
       "</table>\n",
       "</div>"
      ],
      "text/plain": [
       "       user_id date  calls_duration  calls_qty  messages  mb_used      city  \\\n",
       "88942     1128  NaN               0          0         0        0  Волжский   \n",
       "88943     1371  NaN               0          0         0        0      Омск   \n",
       "\n",
       "       churn_date    reg_date tariff  \n",
       "88942  2018-12-23  2018-12-15  ultra  \n",
       "88943  2018-12-30  2018-12-25  smart  "
      ]
     },
     "metadata": {},
     "output_type": "display_data"
    }
   ],
   "source": [
    "display(df[df['date'].isna()])\n",
    "df.dropna(subset=['date'], inplace=True)"
   ]
  },
  {
   "cell_type": "markdown",
   "metadata": {},
   "source": [
    "Два клиента закрыли свой тариф так ни разу им и не воспользовавшись. При чем один из ultra, другой из smart, если конечно это не один и тот же человек. Зарегестрировались эти люди в декабре и вышли через неделю-две. На решение задачи эти строки не повлияют, поэтому просто удалим."
   ]
  },
  {
   "cell_type": "code",
   "execution_count": 17,
   "metadata": {},
   "outputs": [
    {
     "name": "stdout",
     "output_type": "stream",
     "text": [
      "Наблюдений с артефактами в датах: 0\n"
     ]
    }
   ],
   "source": [
    "print('Наблюдений с артефактами в датах:', df.query('date < reg_date or date > churn_date or reg_date > churn_date').shape[0])"
   ]
  },
  {
   "cell_type": "markdown",
   "metadata": {},
   "source": [
    "## Категоризация данных"
   ]
  },
  {
   "cell_type": "code",
   "execution_count": 18,
   "metadata": {},
   "outputs": [
    {
     "data": {
      "text/plain": [
       "Москва             16986\n",
       "Санкт-Петербург     7356\n",
       "Уфа                 2677\n",
       "Новосибирск         2676\n",
       "Ульяновск           2349\n",
       "                   ...  \n",
       "Нижневартовск        175\n",
       "Липецк               166\n",
       "Химки                135\n",
       "Кемерово             124\n",
       "Иваново               48\n",
       "Name: city, Length: 76, dtype: int64"
      ]
     },
     "execution_count": 18,
     "metadata": {},
     "output_type": "execute_result"
    }
   ],
   "source": [
    "df['city'].value_counts()"
   ]
  },
  {
   "cell_type": "markdown",
   "metadata": {},
   "source": [
    "По условиям задачи нам нужно сравнить Москву и другие города.  \n",
    "Из Питера меньше пользователей, чем из Москвы, но значимо больше чем из других городов. Выделим три категории - Москва, Питер и другие города."
   ]
  },
  {
   "cell_type": "code",
   "execution_count": 19,
   "metadata": {},
   "outputs": [
    {
     "data": {
      "text/html": [
       "<div>\n",
       "<style scoped>\n",
       "    .dataframe tbody tr th:only-of-type {\n",
       "        vertical-align: middle;\n",
       "    }\n",
       "\n",
       "    .dataframe tbody tr th {\n",
       "        vertical-align: top;\n",
       "    }\n",
       "\n",
       "    .dataframe thead th {\n",
       "        text-align: right;\n",
       "    }\n",
       "</style>\n",
       "<table border=\"1\" class=\"dataframe\">\n",
       "  <thead>\n",
       "    <tr style=\"text-align: right;\">\n",
       "      <th></th>\n",
       "      <th>user_id</th>\n",
       "      <th>age</th>\n",
       "      <th>churn_date</th>\n",
       "      <th>city</th>\n",
       "      <th>first_name</th>\n",
       "      <th>last_name</th>\n",
       "      <th>reg_date</th>\n",
       "      <th>tariff</th>\n",
       "      <th>city_group</th>\n",
       "    </tr>\n",
       "  </thead>\n",
       "  <tbody>\n",
       "    <tr>\n",
       "      <th>0</th>\n",
       "      <td>1000</td>\n",
       "      <td>52</td>\n",
       "      <td>NaN</td>\n",
       "      <td>Краснодар</td>\n",
       "      <td>Рафаил</td>\n",
       "      <td>Верещагин</td>\n",
       "      <td>2018-05-25</td>\n",
       "      <td>ultra</td>\n",
       "      <td>другие</td>\n",
       "    </tr>\n",
       "    <tr>\n",
       "      <th>1</th>\n",
       "      <td>1001</td>\n",
       "      <td>41</td>\n",
       "      <td>NaN</td>\n",
       "      <td>Москва</td>\n",
       "      <td>Иван</td>\n",
       "      <td>Ежов</td>\n",
       "      <td>2018-11-01</td>\n",
       "      <td>smart</td>\n",
       "      <td>Москва</td>\n",
       "    </tr>\n",
       "    <tr>\n",
       "      <th>2</th>\n",
       "      <td>1002</td>\n",
       "      <td>59</td>\n",
       "      <td>NaN</td>\n",
       "      <td>Стерлитамак</td>\n",
       "      <td>Евгений</td>\n",
       "      <td>Абрамович</td>\n",
       "      <td>2018-06-17</td>\n",
       "      <td>smart</td>\n",
       "      <td>другие</td>\n",
       "    </tr>\n",
       "    <tr>\n",
       "      <th>3</th>\n",
       "      <td>1003</td>\n",
       "      <td>23</td>\n",
       "      <td>NaN</td>\n",
       "      <td>Москва</td>\n",
       "      <td>Белла</td>\n",
       "      <td>Белякова</td>\n",
       "      <td>2018-08-17</td>\n",
       "      <td>ultra</td>\n",
       "      <td>Москва</td>\n",
       "    </tr>\n",
       "    <tr>\n",
       "      <th>4</th>\n",
       "      <td>1004</td>\n",
       "      <td>68</td>\n",
       "      <td>NaN</td>\n",
       "      <td>Новокузнецк</td>\n",
       "      <td>Татьяна</td>\n",
       "      <td>Авдеенко</td>\n",
       "      <td>2018-05-14</td>\n",
       "      <td>ultra</td>\n",
       "      <td>другие</td>\n",
       "    </tr>\n",
       "    <tr>\n",
       "      <th>...</th>\n",
       "      <td>...</td>\n",
       "      <td>...</td>\n",
       "      <td>...</td>\n",
       "      <td>...</td>\n",
       "      <td>...</td>\n",
       "      <td>...</td>\n",
       "      <td>...</td>\n",
       "      <td>...</td>\n",
       "      <td>...</td>\n",
       "    </tr>\n",
       "    <tr>\n",
       "      <th>495</th>\n",
       "      <td>1495</td>\n",
       "      <td>65</td>\n",
       "      <td>NaN</td>\n",
       "      <td>Иркутск</td>\n",
       "      <td>Авксентий</td>\n",
       "      <td>Фокин</td>\n",
       "      <td>2018-08-28</td>\n",
       "      <td>ultra</td>\n",
       "      <td>другие</td>\n",
       "    </tr>\n",
       "    <tr>\n",
       "      <th>496</th>\n",
       "      <td>1496</td>\n",
       "      <td>36</td>\n",
       "      <td>NaN</td>\n",
       "      <td>Вологда</td>\n",
       "      <td>Трифон</td>\n",
       "      <td>Блохин</td>\n",
       "      <td>2018-01-27</td>\n",
       "      <td>smart</td>\n",
       "      <td>другие</td>\n",
       "    </tr>\n",
       "    <tr>\n",
       "      <th>497</th>\n",
       "      <td>1497</td>\n",
       "      <td>32</td>\n",
       "      <td>NaN</td>\n",
       "      <td>Челябинск</td>\n",
       "      <td>Каролина</td>\n",
       "      <td>Агеева</td>\n",
       "      <td>2018-10-09</td>\n",
       "      <td>smart</td>\n",
       "      <td>другие</td>\n",
       "    </tr>\n",
       "    <tr>\n",
       "      <th>498</th>\n",
       "      <td>1498</td>\n",
       "      <td>68</td>\n",
       "      <td>2018-10-25</td>\n",
       "      <td>Владикавказ</td>\n",
       "      <td>Всеволод</td>\n",
       "      <td>Акимчин</td>\n",
       "      <td>2018-07-19</td>\n",
       "      <td>smart</td>\n",
       "      <td>другие</td>\n",
       "    </tr>\n",
       "    <tr>\n",
       "      <th>499</th>\n",
       "      <td>1499</td>\n",
       "      <td>35</td>\n",
       "      <td>NaN</td>\n",
       "      <td>Пермь</td>\n",
       "      <td>Гектор</td>\n",
       "      <td>Корнилов</td>\n",
       "      <td>2018-09-27</td>\n",
       "      <td>smart</td>\n",
       "      <td>другие</td>\n",
       "    </tr>\n",
       "  </tbody>\n",
       "</table>\n",
       "<p>500 rows × 9 columns</p>\n",
       "</div>"
      ],
      "text/plain": [
       "     user_id  age  churn_date         city first_name  last_name    reg_date  \\\n",
       "0       1000   52         NaN    Краснодар     Рафаил  Верещагин  2018-05-25   \n",
       "1       1001   41         NaN       Москва       Иван       Ежов  2018-11-01   \n",
       "2       1002   59         NaN  Стерлитамак    Евгений  Абрамович  2018-06-17   \n",
       "3       1003   23         NaN       Москва      Белла   Белякова  2018-08-17   \n",
       "4       1004   68         NaN  Новокузнецк    Татьяна   Авдеенко  2018-05-14   \n",
       "..       ...  ...         ...          ...        ...        ...         ...   \n",
       "495     1495   65         NaN      Иркутск  Авксентий      Фокин  2018-08-28   \n",
       "496     1496   36         NaN      Вологда     Трифон     Блохин  2018-01-27   \n",
       "497     1497   32         NaN    Челябинск   Каролина     Агеева  2018-10-09   \n",
       "498     1498   68  2018-10-25  Владикавказ   Всеволод    Акимчин  2018-07-19   \n",
       "499     1499   35         NaN        Пермь     Гектор   Корнилов  2018-09-27   \n",
       "\n",
       "    tariff city_group  \n",
       "0    ultra     другие  \n",
       "1    smart     Москва  \n",
       "2    smart     другие  \n",
       "3    ultra     Москва  \n",
       "4    ultra     другие  \n",
       "..     ...        ...  \n",
       "495  ultra     другие  \n",
       "496  smart     другие  \n",
       "497  smart     другие  \n",
       "498  smart     другие  \n",
       "499  smart     другие  \n",
       "\n",
       "[500 rows x 9 columns]"
      ]
     },
     "execution_count": 19,
     "metadata": {},
     "output_type": "execute_result"
    }
   ],
   "source": [
    "dfs['users']['city_group'] = dfs['users']['city'].apply(group_city)\n",
    "dfs['users']"
   ]
  },
  {
   "cell_type": "code",
   "execution_count": 20,
   "metadata": {},
   "outputs": [
    {
     "data": {
      "text/plain": [
       "<bound method Series.unique of 0        2018-05-25\n",
       "1        2018-05-25\n",
       "2        2018-05-25\n",
       "3        2018-05-25\n",
       "4        2018-05-25\n",
       "            ...    \n",
       "88937    2018-08-15\n",
       "88938    2018-08-15\n",
       "88939    2018-08-15\n",
       "88940    2018-08-15\n",
       "88941    2018-08-15\n",
       "Name: reg_date, Length: 88942, dtype: object>"
      ]
     },
     "execution_count": 20,
     "metadata": {},
     "output_type": "execute_result"
    }
   ],
   "source": [
    "df['reg_date'].unique"
   ]
  },
  {
   "cell_type": "markdown",
   "metadata": {},
   "source": [
    "## Сведем данные к пользователь-месяц"
   ]
  },
  {
   "cell_type": "markdown",
   "metadata": {},
   "source": [
    "У каждого пользователя своя точка отсчета, и следовательно свой расчетный месяц.  \n",
    "Добавим столбец с расчетным месяцем с предположительным расчетным периодом в 30 дней."
   ]
  },
  {
   "cell_type": "code",
   "execution_count": 21,
   "metadata": {},
   "outputs": [
    {
     "data": {
      "text/html": [
       "<div>\n",
       "<style scoped>\n",
       "    .dataframe tbody tr th:only-of-type {\n",
       "        vertical-align: middle;\n",
       "    }\n",
       "\n",
       "    .dataframe tbody tr th {\n",
       "        vertical-align: top;\n",
       "    }\n",
       "\n",
       "    .dataframe thead th {\n",
       "        text-align: right;\n",
       "    }\n",
       "</style>\n",
       "<table border=\"1\" class=\"dataframe\">\n",
       "  <thead>\n",
       "    <tr style=\"text-align: right;\">\n",
       "      <th></th>\n",
       "      <th>user_id</th>\n",
       "      <th>date</th>\n",
       "      <th>calls_duration</th>\n",
       "      <th>calls_qty</th>\n",
       "      <th>messages</th>\n",
       "      <th>mb_used</th>\n",
       "      <th>city</th>\n",
       "      <th>churn_date</th>\n",
       "      <th>reg_date</th>\n",
       "      <th>tariff</th>\n",
       "      <th>month</th>\n",
       "    </tr>\n",
       "  </thead>\n",
       "  <tbody>\n",
       "    <tr>\n",
       "      <th>17495</th>\n",
       "      <td>1101</td>\n",
       "      <td>2018-09-24</td>\n",
       "      <td>13</td>\n",
       "      <td>3</td>\n",
       "      <td>0</td>\n",
       "      <td>52</td>\n",
       "      <td>Казань</td>\n",
       "      <td>NaN</td>\n",
       "      <td>2018-05-21</td>\n",
       "      <td>smart</td>\n",
       "      <td>9</td>\n",
       "    </tr>\n",
       "    <tr>\n",
       "      <th>11125</th>\n",
       "      <td>1064</td>\n",
       "      <td>2018-08-21</td>\n",
       "      <td>14</td>\n",
       "      <td>1</td>\n",
       "      <td>1</td>\n",
       "      <td>668</td>\n",
       "      <td>Якутск</td>\n",
       "      <td>2018-12-26</td>\n",
       "      <td>2018-03-17</td>\n",
       "      <td>smart</td>\n",
       "      <td>8</td>\n",
       "    </tr>\n",
       "  </tbody>\n",
       "</table>\n",
       "</div>"
      ],
      "text/plain": [
       "       user_id        date  calls_duration  calls_qty  messages  mb_used  \\\n",
       "17495     1101  2018-09-24              13          3         0       52   \n",
       "11125     1064  2018-08-21              14          1         1      668   \n",
       "\n",
       "         city  churn_date    reg_date tariff  month  \n",
       "17495  Казань         NaN  2018-05-21  smart      9  \n",
       "11125  Якутск  2018-12-26  2018-03-17  smart      8  "
      ]
     },
     "execution_count": 21,
     "metadata": {},
     "output_type": "execute_result"
    }
   ],
   "source": [
    "df['month'] = df.apply(billing_month, axis=1)\n",
    "df.sample(2)"
   ]
  },
  {
   "cell_type": "code",
   "execution_count": 22,
   "metadata": {},
   "outputs": [
    {
     "data": {
      "text/html": [
       "<div>\n",
       "<style scoped>\n",
       "    .dataframe tbody tr th:only-of-type {\n",
       "        vertical-align: middle;\n",
       "    }\n",
       "\n",
       "    .dataframe tbody tr th {\n",
       "        vertical-align: top;\n",
       "    }\n",
       "\n",
       "    .dataframe thead th {\n",
       "        text-align: right;\n",
       "    }\n",
       "</style>\n",
       "<table border=\"1\" class=\"dataframe\">\n",
       "  <thead>\n",
       "    <tr style=\"text-align: right;\">\n",
       "      <th></th>\n",
       "      <th>user_id</th>\n",
       "      <th>date</th>\n",
       "      <th>calls_duration</th>\n",
       "      <th>calls_qty</th>\n",
       "      <th>messages</th>\n",
       "      <th>mb_used</th>\n",
       "      <th>city</th>\n",
       "      <th>churn_date</th>\n",
       "      <th>reg_date</th>\n",
       "      <th>tariff</th>\n",
       "      <th>month</th>\n",
       "    </tr>\n",
       "  </thead>\n",
       "  <tbody>\n",
       "    <tr>\n",
       "      <th>268</th>\n",
       "      <td>1001</td>\n",
       "      <td>2018-12-31</td>\n",
       "      <td>0</td>\n",
       "      <td>1</td>\n",
       "      <td>0</td>\n",
       "      <td>0</td>\n",
       "      <td>Москва</td>\n",
       "      <td>NaN</td>\n",
       "      <td>2018-11-01</td>\n",
       "      <td>smart</td>\n",
       "      <td>13</td>\n",
       "    </tr>\n",
       "    <tr>\n",
       "      <th>3768</th>\n",
       "      <td>1018</td>\n",
       "      <td>2018-12-27</td>\n",
       "      <td>23</td>\n",
       "      <td>2</td>\n",
       "      <td>1</td>\n",
       "      <td>778</td>\n",
       "      <td>Уфа</td>\n",
       "      <td>NaN</td>\n",
       "      <td>2018-04-01</td>\n",
       "      <td>ultra</td>\n",
       "      <td>13</td>\n",
       "    </tr>\n",
       "  </tbody>\n",
       "</table>\n",
       "</div>"
      ],
      "text/plain": [
       "      user_id        date  calls_duration  calls_qty  messages  mb_used  \\\n",
       "268      1001  2018-12-31               0          1         0        0   \n",
       "3768     1018  2018-12-27              23          2         1      778   \n",
       "\n",
       "        city churn_date    reg_date tariff  month  \n",
       "268   Москва        NaN  2018-11-01  smart     13  \n",
       "3768     Уфа        NaN  2018-04-01  ultra     13  "
      ]
     },
     "execution_count": 22,
     "metadata": {},
     "output_type": "execute_result"
    }
   ],
   "source": [
    "df[df['month'] == 13].head(2)"
   ]
  },
  {
   "cell_type": "markdown",
   "metadata": {},
   "source": [
    "появился 13 месяц, пока оставим как есть, но помним что это декабрь, и для некоторых пользователей это новый расчетный период. Можно будет приплюсовать выручку к 12му месяцу"
   ]
  },
  {
   "cell_type": "markdown",
   "metadata": {},
   "source": [
    "Сделаем сводку по клиенту-месяц:\n",
    "* Кол-во сделанных звонков и израсходованных минут разговора по месяцам;\n",
    "* Количество отправленных сообщений по месяцам;\n",
    "* Объем израсходованного интернет-трафика по месяцам;"
   ]
  },
  {
   "cell_type": "code",
   "execution_count": 23,
   "metadata": {},
   "outputs": [
    {
     "data": {
      "text/html": [
       "<div>\n",
       "<style scoped>\n",
       "    .dataframe tbody tr th:only-of-type {\n",
       "        vertical-align: middle;\n",
       "    }\n",
       "\n",
       "    .dataframe tbody tr th {\n",
       "        vertical-align: top;\n",
       "    }\n",
       "\n",
       "    .dataframe thead th {\n",
       "        text-align: right;\n",
       "    }\n",
       "</style>\n",
       "<table border=\"1\" class=\"dataframe\">\n",
       "  <thead>\n",
       "    <tr style=\"text-align: right;\">\n",
       "      <th></th>\n",
       "      <th>user_id</th>\n",
       "      <th>month</th>\n",
       "      <th>calls_duration</th>\n",
       "      <th>calls_qty</th>\n",
       "      <th>mb_used</th>\n",
       "      <th>messages</th>\n",
       "      <th>city</th>\n",
       "      <th>churn_date</th>\n",
       "      <th>reg_date</th>\n",
       "      <th>age</th>\n",
       "      <th>tariff</th>\n",
       "      <th>city_group</th>\n",
       "    </tr>\n",
       "  </thead>\n",
       "  <tbody>\n",
       "    <tr>\n",
       "      <th>134</th>\n",
       "      <td>1018</td>\n",
       "      <td>10</td>\n",
       "      <td>465</td>\n",
       "      <td>73</td>\n",
       "      <td>4985</td>\n",
       "      <td>24</td>\n",
       "      <td>Уфа</td>\n",
       "      <td>NaN</td>\n",
       "      <td>2018-04-01</td>\n",
       "      <td>71</td>\n",
       "      <td>ultra</td>\n",
       "      <td>другие</td>\n",
       "    </tr>\n",
       "    <tr>\n",
       "      <th>1884</th>\n",
       "      <td>1292</td>\n",
       "      <td>12</td>\n",
       "      <td>122</td>\n",
       "      <td>15</td>\n",
       "      <td>15393</td>\n",
       "      <td>0</td>\n",
       "      <td>Красноярск</td>\n",
       "      <td>NaN</td>\n",
       "      <td>2018-02-21</td>\n",
       "      <td>63</td>\n",
       "      <td>ultra</td>\n",
       "      <td>другие</td>\n",
       "    </tr>\n",
       "    <tr>\n",
       "      <th>1959</th>\n",
       "      <td>1305</td>\n",
       "      <td>10</td>\n",
       "      <td>681</td>\n",
       "      <td>89</td>\n",
       "      <td>21904</td>\n",
       "      <td>0</td>\n",
       "      <td>Москва</td>\n",
       "      <td>NaN</td>\n",
       "      <td>2018-10-25</td>\n",
       "      <td>37</td>\n",
       "      <td>smart</td>\n",
       "      <td>Москва</td>\n",
       "    </tr>\n",
       "    <tr>\n",
       "      <th>1849</th>\n",
       "      <td>1288</td>\n",
       "      <td>12</td>\n",
       "      <td>367</td>\n",
       "      <td>61</td>\n",
       "      <td>9503</td>\n",
       "      <td>48</td>\n",
       "      <td>Улан-Удэ</td>\n",
       "      <td>NaN</td>\n",
       "      <td>2018-09-09</td>\n",
       "      <td>63</td>\n",
       "      <td>smart</td>\n",
       "      <td>другие</td>\n",
       "    </tr>\n",
       "    <tr>\n",
       "      <th>1644</th>\n",
       "      <td>1255</td>\n",
       "      <td>6</td>\n",
       "      <td>273</td>\n",
       "      <td>37</td>\n",
       "      <td>51062</td>\n",
       "      <td>0</td>\n",
       "      <td>Саранск</td>\n",
       "      <td>2018-09-02</td>\n",
       "      <td>2018-02-19</td>\n",
       "      <td>40</td>\n",
       "      <td>ultra</td>\n",
       "      <td>другие</td>\n",
       "    </tr>\n",
       "  </tbody>\n",
       "</table>\n",
       "</div>"
      ],
      "text/plain": [
       "      user_id  month  calls_duration  calls_qty  mb_used  messages  \\\n",
       "134      1018     10             465         73     4985        24   \n",
       "1884     1292     12             122         15    15393         0   \n",
       "1959     1305     10             681         89    21904         0   \n",
       "1849     1288     12             367         61     9503        48   \n",
       "1644     1255      6             273         37    51062         0   \n",
       "\n",
       "            city  churn_date    reg_date  age tariff city_group  \n",
       "134          Уфа         NaN  2018-04-01   71  ultra     другие  \n",
       "1884  Красноярск         NaN  2018-02-21   63  ultra     другие  \n",
       "1959      Москва         NaN  2018-10-25   37  smart     Москва  \n",
       "1849    Улан-Удэ         NaN  2018-09-09   63  smart     другие  \n",
       "1644     Саранск  2018-09-02  2018-02-19   40  ultra     другие  "
      ]
     },
     "execution_count": 23,
     "metadata": {},
     "output_type": "execute_result"
    }
   ],
   "source": [
    "user_month = df.pivot_table(index=['user_id','month'], aggfunc='sum').reset_index()\n",
    "user_month = user_month.merge(dfs['users'][['user_id', 'city', 'churn_date', \n",
    "                                            'reg_date', 'age','tariff', 'city_group']], \n",
    "                              on='user_id', how='left')\n",
    "user_month.sample(5)"
   ]
  },
  {
   "cell_type": "markdown",
   "metadata": {},
   "source": [
    "## Посчитаем выручку"
   ]
  },
  {
   "cell_type": "markdown",
   "metadata": {},
   "source": [
    "Посчитаем помесячную выручку с каждого пользователя и добавим в таблицу в столбец `revenue_per_month` (вычтем бесплатный лимит из суммарного кол-ва израсходованных минут, сообщений и интернет-трафика; остаток умножим на значение из тарифного плана; прибавим абонентскую плату, соответствующую тарифному плану)."
   ]
  },
  {
   "cell_type": "code",
   "execution_count": 24,
   "metadata": {},
   "outputs": [
    {
     "data": {
      "text/html": [
       "<div>\n",
       "<style scoped>\n",
       "    .dataframe tbody tr th:only-of-type {\n",
       "        vertical-align: middle;\n",
       "    }\n",
       "\n",
       "    .dataframe tbody tr th {\n",
       "        vertical-align: top;\n",
       "    }\n",
       "\n",
       "    .dataframe thead th {\n",
       "        text-align: right;\n",
       "    }\n",
       "</style>\n",
       "<table border=\"1\" class=\"dataframe\">\n",
       "  <thead>\n",
       "    <tr style=\"text-align: right;\">\n",
       "      <th></th>\n",
       "      <th>user_id</th>\n",
       "      <th>month</th>\n",
       "      <th>calls_duration</th>\n",
       "      <th>calls_qty</th>\n",
       "      <th>mb_used</th>\n",
       "      <th>messages</th>\n",
       "      <th>city</th>\n",
       "      <th>churn_date</th>\n",
       "      <th>reg_date</th>\n",
       "      <th>age</th>\n",
       "      <th>tariff</th>\n",
       "      <th>city_group</th>\n",
       "      <th>revenue_per_month</th>\n",
       "    </tr>\n",
       "  </thead>\n",
       "  <tbody>\n",
       "    <tr>\n",
       "      <th>305</th>\n",
       "      <td>1049</td>\n",
       "      <td>5</td>\n",
       "      <td>465</td>\n",
       "      <td>77</td>\n",
       "      <td>9998</td>\n",
       "      <td>0</td>\n",
       "      <td>Москва</td>\n",
       "      <td>NaN</td>\n",
       "      <td>2018-03-10</td>\n",
       "      <td>41</td>\n",
       "      <td>ultra</td>\n",
       "      <td>Москва</td>\n",
       "      <td>1950</td>\n",
       "    </tr>\n",
       "    <tr>\n",
       "      <th>2744</th>\n",
       "      <td>1421</td>\n",
       "      <td>12</td>\n",
       "      <td>117</td>\n",
       "      <td>15</td>\n",
       "      <td>7394</td>\n",
       "      <td>15</td>\n",
       "      <td>Калининград</td>\n",
       "      <td>NaN</td>\n",
       "      <td>2018-02-22</td>\n",
       "      <td>30</td>\n",
       "      <td>smart</td>\n",
       "      <td>другие</td>\n",
       "      <td>550</td>\n",
       "    </tr>\n",
       "    <tr>\n",
       "      <th>1368</th>\n",
       "      <td>1210</td>\n",
       "      <td>12</td>\n",
       "      <td>87</td>\n",
       "      <td>14</td>\n",
       "      <td>989</td>\n",
       "      <td>0</td>\n",
       "      <td>Севастополь</td>\n",
       "      <td>NaN</td>\n",
       "      <td>2018-07-29</td>\n",
       "      <td>33</td>\n",
       "      <td>smart</td>\n",
       "      <td>другие</td>\n",
       "      <td>550</td>\n",
       "    </tr>\n",
       "    <tr>\n",
       "      <th>2600</th>\n",
       "      <td>1400</td>\n",
       "      <td>9</td>\n",
       "      <td>587</td>\n",
       "      <td>84</td>\n",
       "      <td>23914</td>\n",
       "      <td>61</td>\n",
       "      <td>Москва</td>\n",
       "      <td>NaN</td>\n",
       "      <td>2018-08-24</td>\n",
       "      <td>71</td>\n",
       "      <td>smart</td>\n",
       "      <td>Москва</td>\n",
       "      <td>2644</td>\n",
       "    </tr>\n",
       "    <tr>\n",
       "      <th>1861</th>\n",
       "      <td>1290</td>\n",
       "      <td>11</td>\n",
       "      <td>499</td>\n",
       "      <td>75</td>\n",
       "      <td>24166</td>\n",
       "      <td>0</td>\n",
       "      <td>Нижний Новгород</td>\n",
       "      <td>NaN</td>\n",
       "      <td>2018-05-11</td>\n",
       "      <td>68</td>\n",
       "      <td>smart</td>\n",
       "      <td>другие</td>\n",
       "      <td>2350</td>\n",
       "    </tr>\n",
       "  </tbody>\n",
       "</table>\n",
       "</div>"
      ],
      "text/plain": [
       "      user_id  month  calls_duration  calls_qty  mb_used  messages  \\\n",
       "305      1049      5             465         77     9998         0   \n",
       "2744     1421     12             117         15     7394        15   \n",
       "1368     1210     12              87         14      989         0   \n",
       "2600     1400      9             587         84    23914        61   \n",
       "1861     1290     11             499         75    24166         0   \n",
       "\n",
       "                 city churn_date    reg_date  age tariff city_group  \\\n",
       "305            Москва        NaN  2018-03-10   41  ultra     Москва   \n",
       "2744      Калининград        NaN  2018-02-22   30  smart     другие   \n",
       "1368      Севастополь        NaN  2018-07-29   33  smart     другие   \n",
       "2600           Москва        NaN  2018-08-24   71  smart     Москва   \n",
       "1861  Нижний Новгород        NaN  2018-05-11   68  smart     другие   \n",
       "\n",
       "      revenue_per_month  \n",
       "305                1950  \n",
       "2744                550  \n",
       "1368                550  \n",
       "2600               2644  \n",
       "1861               2350  "
      ]
     },
     "execution_count": 24,
     "metadata": {},
     "output_type": "execute_result"
    }
   ],
   "source": [
    "user_month['revenue_per_month'] = user_month.apply(calculate_revenue, axis=1)\n",
    "user_month.sample(5)"
   ]
  },
  {
   "cell_type": "markdown",
   "metadata": {},
   "source": [
    "Прибавим 13 месяц к 12"
   ]
  },
  {
   "cell_type": "code",
   "execution_count": 25,
   "metadata": {},
   "outputs": [],
   "source": [
    "user_month['month'].replace(13, 12, inplace=True)"
   ]
  },
  {
   "cell_type": "markdown",
   "metadata": {},
   "source": [
    "Посмотрим на пользователь-месяц с нулевыми звонками, смс или интернет трафиком."
   ]
  },
  {
   "cell_type": "code",
   "execution_count": 26,
   "metadata": {},
   "outputs": [
    {
     "name": "stdout",
     "output_type": "stream",
     "text": [
      "0 звонков: 46\n",
      "0 продолжительность звонков: 51\n",
      "0 смс: 502\n",
      "0 мб: 14\n"
     ]
    }
   ],
   "source": [
    "print('0 звонков:', user_month[user_month['calls_qty'] == 0]['calls_qty'].count())\n",
    "print('0 продолжительность звонков:', user_month[user_month['calls_duration'] == 0]['calls_qty'].count())\n",
    "print('0 смс:', user_month[user_month['messages'] == 0]['calls_qty'].count())\n",
    "print('0 мб:', user_month[user_month['mb_used'] == 0]['calls_qty'].count())"
   ]
  },
  {
   "cell_type": "markdown",
   "metadata": {},
   "source": [
    "Неиспользуемый интернет или звонки - редкость, а вот неиспользумые за месяц смс встречаются в каждом 6м наблюдении. "
   ]
  },
  {
   "cell_type": "code",
   "execution_count": 27,
   "metadata": {},
   "outputs": [
    {
     "data": {
      "text/html": [
       "<div>\n",
       "<style scoped>\n",
       "    .dataframe tbody tr th:only-of-type {\n",
       "        vertical-align: middle;\n",
       "    }\n",
       "\n",
       "    .dataframe tbody tr th {\n",
       "        vertical-align: top;\n",
       "    }\n",
       "\n",
       "    .dataframe thead th {\n",
       "        text-align: right;\n",
       "    }\n",
       "</style>\n",
       "<table border=\"1\" class=\"dataframe\">\n",
       "  <thead>\n",
       "    <tr style=\"text-align: right;\">\n",
       "      <th></th>\n",
       "      <th>user_id</th>\n",
       "      <th>month</th>\n",
       "      <th>calls_duration</th>\n",
       "      <th>calls_qty</th>\n",
       "      <th>mb_used</th>\n",
       "      <th>messages</th>\n",
       "      <th>city</th>\n",
       "      <th>churn_date</th>\n",
       "      <th>reg_date</th>\n",
       "      <th>age</th>\n",
       "      <th>tariff</th>\n",
       "      <th>city_group</th>\n",
       "      <th>revenue_per_month</th>\n",
       "    </tr>\n",
       "  </thead>\n",
       "  <tbody>\n",
       "    <tr>\n",
       "      <th>10</th>\n",
       "      <td>1001</td>\n",
       "      <td>12</td>\n",
       "      <td>0</td>\n",
       "      <td>1</td>\n",
       "      <td>0</td>\n",
       "      <td>0</td>\n",
       "      <td>Москва</td>\n",
       "      <td>NaN</td>\n",
       "      <td>2018-11-01</td>\n",
       "      <td>41</td>\n",
       "      <td>smart</td>\n",
       "      <td>Москва</td>\n",
       "      <td>550</td>\n",
       "    </tr>\n",
       "    <tr>\n",
       "      <th>1434</th>\n",
       "      <td>1221</td>\n",
       "      <td>12</td>\n",
       "      <td>0</td>\n",
       "      <td>1</td>\n",
       "      <td>148</td>\n",
       "      <td>1</td>\n",
       "      <td>Белгород</td>\n",
       "      <td>NaN</td>\n",
       "      <td>2018-06-03</td>\n",
       "      <td>40</td>\n",
       "      <td>smart</td>\n",
       "      <td>другие</td>\n",
       "      <td>550</td>\n",
       "    </tr>\n",
       "    <tr>\n",
       "      <th>1652</th>\n",
       "      <td>1257</td>\n",
       "      <td>7</td>\n",
       "      <td>0</td>\n",
       "      <td>3</td>\n",
       "      <td>24540</td>\n",
       "      <td>152</td>\n",
       "      <td>Санкт-Петербург</td>\n",
       "      <td>NaN</td>\n",
       "      <td>2018-06-17</td>\n",
       "      <td>21</td>\n",
       "      <td>ultra</td>\n",
       "      <td>Санкт-Петербург</td>\n",
       "      <td>1950</td>\n",
       "    </tr>\n",
       "    <tr>\n",
       "      <th>1656</th>\n",
       "      <td>1257</td>\n",
       "      <td>11</td>\n",
       "      <td>0</td>\n",
       "      <td>1</td>\n",
       "      <td>23643</td>\n",
       "      <td>122</td>\n",
       "      <td>Санкт-Петербург</td>\n",
       "      <td>NaN</td>\n",
       "      <td>2018-06-17</td>\n",
       "      <td>21</td>\n",
       "      <td>ultra</td>\n",
       "      <td>Санкт-Петербург</td>\n",
       "      <td>1950</td>\n",
       "    </tr>\n",
       "    <tr>\n",
       "      <th>2845</th>\n",
       "      <td>1433</td>\n",
       "      <td>12</td>\n",
       "      <td>0</td>\n",
       "      <td>1</td>\n",
       "      <td>643</td>\n",
       "      <td>1</td>\n",
       "      <td>Подольск</td>\n",
       "      <td>NaN</td>\n",
       "      <td>2018-01-05</td>\n",
       "      <td>71</td>\n",
       "      <td>smart</td>\n",
       "      <td>другие</td>\n",
       "      <td>550</td>\n",
       "    </tr>\n",
       "  </tbody>\n",
       "</table>\n",
       "</div>"
      ],
      "text/plain": [
       "      user_id  month  calls_duration  calls_qty  mb_used  messages  \\\n",
       "10       1001     12               0          1        0         0   \n",
       "1434     1221     12               0          1      148         1   \n",
       "1652     1257      7               0          3    24540       152   \n",
       "1656     1257     11               0          1    23643       122   \n",
       "2845     1433     12               0          1      643         1   \n",
       "\n",
       "                 city churn_date    reg_date  age tariff       city_group  \\\n",
       "10             Москва        NaN  2018-11-01   41  smart           Москва   \n",
       "1434         Белгород        NaN  2018-06-03   40  smart           другие   \n",
       "1652  Санкт-Петербург        NaN  2018-06-17   21  ultra  Санкт-Петербург   \n",
       "1656  Санкт-Петербург        NaN  2018-06-17   21  ultra  Санкт-Петербург   \n",
       "2845         Подольск        NaN  2018-01-05   71  smart           другие   \n",
       "\n",
       "      revenue_per_month  \n",
       "10                  550  \n",
       "1434                550  \n",
       "1652               1950  \n",
       "1656               1950  \n",
       "2845                550  "
      ]
     },
     "execution_count": 27,
     "metadata": {},
     "output_type": "execute_result"
    }
   ],
   "source": [
    "user_month[(user_month['calls_qty'] != 0) & (user_month['calls_duration'] == 0)]"
   ]
  },
  {
   "cell_type": "markdown",
   "metadata": {},
   "source": [
    "Что это? Звонок был и даже три, но продолжительность нулевая. Пользователи резко передумали звонить или это что-то сорвалось?  \n",
    "Здесь не видно какой-либо закономерности и данных немного, поэтому удалим эти выбросы. "
   ]
  },
  {
   "cell_type": "code",
   "execution_count": 28,
   "metadata": {},
   "outputs": [],
   "source": [
    "user_month = user_month.drop(user_month[(user_month['calls_qty'] != 0) & \n",
    "                                        (user_month['calls_duration'] == 0)].index, \n",
    "                             axis=0).reset_index()"
   ]
  },
  {
   "cell_type": "markdown",
   "metadata": {},
   "source": [
    "Все необходимые данные для анализа в одной таблице, можно двигаться дальше.  "
   ]
  },
  {
   "cell_type": "markdown",
   "metadata": {},
   "source": [
    "### Проверим данные на выбросы в таблице user_month (пользователь-месяц)"
   ]
  },
  {
   "cell_type": "code",
   "execution_count": 29,
   "metadata": {},
   "outputs": [
    {
     "data": {
      "image/png": "[encoded data removed]",
      "text/plain": [
       "<Figure size 864x216 with 1 Axes>"
      ]
     },
     "metadata": {},
     "output_type": "display_data"
    },
    {
     "data": {
      "image/png": "[encoded data removed]",
      "text/plain": [
       "<Figure size 864x216 with 1 Axes>"
      ]
     },
     "metadata": {},
     "output_type": "display_data"
    },
    {
     "data": {
      "image/png": "[encoded data removed]",
      "text/plain": [
       "<Figure size 864x216 with 1 Axes>"
      ]
     },
     "metadata": {},
     "output_type": "display_data"
    }
   ],
   "source": [
    "def boxplot_func(x, y='tariff', data=user_month):\n",
    "    '''Строит boxplot по заданному столбцу x.\n",
    "    '''\n",
    "    sns.boxplot(x=x, y=y, data=data)\n",
    "    plt.show()\n",
    "\n",
    "for col in ['calls_duration', 'mb_used', 'messages']:\n",
    "    boxplot_func(col)"
   ]
  },
  {
   "cell_type": "markdown",
   "metadata": {},
   "source": [
    "Избавимся от выбросов - ограничения поставим по лимитам тариффа ультра"
   ]
  },
  {
   "cell_type": "code",
   "execution_count": 30,
   "metadata": {},
   "outputs": [
    {
     "data": {
      "image/png": "[encoded data removed]",
      "text/plain": [
       "<Figure size 864x216 with 1 Axes>"
      ]
     },
     "metadata": {},
     "output_type": "display_data"
    }
   ],
   "source": [
    "good_ultra = (user_month\n",
    "              .query('tariff == \"ultra\" and calls_duration < 3000')\n",
    "              .query('mb_used < 30000')\n",
    "              .query('messages < 1000')\n",
    "             )\n",
    "good_smart = (user_month\n",
    "              .query('tariff == \"smart\" and calls_duration < 3000')\n",
    "              .query('mb_used < 30000')\n",
    "              .query('messages < 1000')\n",
    "             )\n",
    "good_user_month = good_smart.append(good_ultra)\n",
    "boxplot_func('calls_duration', data=good_user_month)"
   ]
  },
  {
   "cell_type": "code",
   "execution_count": 31,
   "metadata": {},
   "outputs": [
    {
     "name": "stdout",
     "output_type": "stream",
     "text": [
      "Убрали наблюдений ultra: 135\n",
      "Убрали наблюдений smart: 16\n",
      "Убрали наблюдений из всего датасета df: -4.64%\n"
     ]
    }
   ],
   "source": [
    "print('Убрали наблюдений ultra:', len(user_month[user_month['tariff'] == 'ultra']) - len(good_ultra))\n",
    "print('Убрали наблюдений smart:', (len(user_month[user_month['tariff'] == 'smart']) - len(good_smart)))\n",
    "print('Убрали наблюдений из всего датасета df: {:.2%}'.format(((len(good_ultra)+len(good_smart)) / (len(user_month)) - 1)))"
   ]
  },
  {
   "cell_type": "markdown",
   "metadata": {},
   "source": [
    "### Вытащим месяц"
   ]
  },
  {
   "cell_type": "code",
   "execution_count": 32,
   "metadata": {},
   "outputs": [],
   "source": [
    "dates_column = ['reg_date', 'churn_date']\n",
    "\n",
    "for column in dates_column:\n",
    "    extract_month(good_user_month, column)\n",
    "    extract_month(df, column)"
   ]
  },
  {
   "cell_type": "markdown",
   "metadata": {},
   "source": [
    "<a id='2'></a>\n",
    "# Этап 2. Анализ данных"
   ]
  },
  {
   "cell_type": "markdown",
   "metadata": {},
   "source": [
    "### Посмотрим как люди регистрировались и уходили в течение года"
   ]
  },
  {
   "cell_type": "code",
   "execution_count": 33,
   "metadata": {},
   "outputs": [
    {
     "data": {
      "image/png": "[encoded data removed]",
      "text/plain": [
       "<Figure size 864x216 with 1 Axes>"
      ]
     },
     "metadata": {},
     "output_type": "display_data"
    }
   ],
   "source": [
    "reg_churn_graph(df)"
   ]
  },
  {
   "cell_type": "markdown",
   "metadata": {},
   "source": [
    "Или это просто такая выборка, или вырисовывается плохая динамика притока новых клиентов.  \n",
    "Возможно есть некая сезонность и люди охотнее регистрируются в начале года. Нужно посмотреть на динамику за 3-4 года.  \n",
    "Или это точка роста, и компании стоит задуматься над новой маркетинговой копанией.  "
   ]
  },
  {
   "cell_type": "code",
   "execution_count": 34,
   "metadata": {},
   "outputs": [
    {
     "name": "stdout",
     "output_type": "stream",
     "text": [
      "smart\n"
     ]
    },
    {
     "data": {
      "image/png": "[encoded data removed]",
      "text/plain": [
       "<Figure size 864x216 with 1 Axes>"
      ]
     },
     "metadata": {},
     "output_type": "display_data"
    },
    {
     "name": "stdout",
     "output_type": "stream",
     "text": [
      "ultra\n"
     ]
    },
    {
     "data": {
      "image/png": "[encoded data removed]",
      "text/plain": [
       "<Figure size 864x216 with 1 Axes>"
      ]
     },
     "metadata": {},
     "output_type": "display_data"
    }
   ],
   "source": [
    "print('smart')\n",
    "reg_churn_graph(df[df['tariff'] == 'smart'])\n",
    "\n",
    "print('ultra')\n",
    "reg_churn_graph(df[df['tariff'] == 'ultra'])"
   ]
  },
  {
   "cell_type": "markdown",
   "metadata": {},
   "source": [
    "В основном динамика схожа у двух тарифов, но с ultra ушло больше пользователей. Возможно что-то не так с этим тарифов или эти пользователи сменили тариф на смарт."
   ]
  },
  {
   "cell_type": "markdown",
   "metadata": {},
   "source": [
    "## Сведем данные к тариф-месяц"
   ]
  },
  {
   "cell_type": "code",
   "execution_count": 35,
   "metadata": {},
   "outputs": [
    {
     "data": {
      "text/html": [
       "<div>\n",
       "<style scoped>\n",
       "    .dataframe tbody tr th:only-of-type {\n",
       "        vertical-align: middle;\n",
       "    }\n",
       "\n",
       "    .dataframe tbody tr th {\n",
       "        vertical-align: top;\n",
       "    }\n",
       "\n",
       "    .dataframe thead th {\n",
       "        text-align: right;\n",
       "    }\n",
       "</style>\n",
       "<table border=\"1\" class=\"dataframe\">\n",
       "  <thead>\n",
       "    <tr style=\"text-align: right;\">\n",
       "      <th></th>\n",
       "      <th>tariff</th>\n",
       "      <th>month</th>\n",
       "      <th>calls_duration</th>\n",
       "      <th>calls_qty</th>\n",
       "      <th>mb_used</th>\n",
       "      <th>messages</th>\n",
       "      <th>revenue_per_month</th>\n",
       "    </tr>\n",
       "  </thead>\n",
       "  <tbody>\n",
       "    <tr>\n",
       "      <th>20</th>\n",
       "      <td>ultra</td>\n",
       "      <td>9</td>\n",
       "      <td>564.466019</td>\n",
       "      <td>78.524272</td>\n",
       "      <td>17786.951456</td>\n",
       "      <td>55.349515</td>\n",
       "      <td>1950.000000</td>\n",
       "    </tr>\n",
       "    <tr>\n",
       "      <th>4</th>\n",
       "      <td>smart</td>\n",
       "      <td>5</td>\n",
       "      <td>431.290780</td>\n",
       "      <td>60.921986</td>\n",
       "      <td>16983.127660</td>\n",
       "      <td>36.283688</td>\n",
       "      <td>1253.602837</td>\n",
       "    </tr>\n",
       "  </tbody>\n",
       "</table>\n",
       "</div>"
      ],
      "text/plain": [
       "   tariff  month  calls_duration  calls_qty       mb_used   messages  \\\n",
       "20  ultra      9      564.466019  78.524272  17786.951456  55.349515   \n",
       "4   smart      5      431.290780  60.921986  16983.127660  36.283688   \n",
       "\n",
       "    revenue_per_month  \n",
       "20        1950.000000  \n",
       "4         1253.602837  "
      ]
     },
     "execution_count": 35,
     "metadata": {},
     "output_type": "execute_result"
    }
   ],
   "source": [
    "tariff_month = good_user_month \\\n",
    ".pivot_table(index=['tariff', 'month'], \n",
    "             values=['calls_duration', 'calls_qty', 'mb_used', 'messages', 'revenue_per_month']) \\\n",
    ".reset_index()\n",
    "tariff_month.sample(2)"
   ]
  },
  {
   "cell_type": "code",
   "execution_count": 36,
   "metadata": {},
   "outputs": [
    {
     "data": {
      "text/plain": [
       "['calls_duration', 'calls_qty', 'messages', 'mb_used', 'revenue_per_month']"
      ]
     },
     "execution_count": 36,
     "metadata": {},
     "output_type": "execute_result"
    }
   ],
   "source": [
    "numeric_columns.append('revenue_per_month')\n",
    "numeric_columns"
   ]
  },
  {
   "cell_type": "code",
   "execution_count": 37,
   "metadata": {},
   "outputs": [
    {
     "data": {
      "image/png": "[encoded data removed]",
      "text/plain": [
       "<Figure size 960x160 with 1 Axes>"
      ]
     },
     "metadata": {},
     "output_type": "display_data"
    },
    {
     "data": {
      "image/png": "[encoded data removed]",
      "text/plain": [
       "<Figure size 960x160 with 1 Axes>"
      ]
     },
     "metadata": {},
     "output_type": "display_data"
    },
    {
     "data": {
      "image/png": "[encoded data removed]",
      "text/plain": [
       "<Figure size 960x160 with 1 Axes>"
      ]
     },
     "metadata": {},
     "output_type": "display_data"
    },
    {
     "data": {
      "image/png": "[encoded data removed]",
      "text/plain": [
       "<Figure size 960x160 with 1 Axes>"
      ]
     },
     "metadata": {},
     "output_type": "display_data"
    },
    {
     "data": {
      "image/png": "[encoded data removed]",
      "text/plain": [
       "<Figure size 960x160 with 1 Axes>"
      ]
     },
     "metadata": {},
     "output_type": "display_data"
    }
   ],
   "source": [
    "numeric_columns\n",
    "for column in numeric_columns:\n",
    "    x = [int(i) for i in range(1,13)]\n",
    "    y1 = tariff_month[tariff_month['tariff'] == 'smart'][column]\n",
    "    y2 = tariff_month[tariff_month['tariff'] == 'ultra'][column]\n",
    "\n",
    "    # Plot Line1 (Left Y Axis)\n",
    "    fig, ax1 = plt.subplots(1, 1 ,figsize=(12,2), dpi= 80)\n",
    "    ax1.plot(x, y1, color='tab:red', label='smart')\n",
    "    plt.ylabel(column)\n",
    "    plt.xlabel('month')\n",
    "    plt.title(f'{column} всех клиентов в месяц по каждому тарифу')\n",
    "\n",
    "    # Plot Line2 (Right Y Axis)\n",
    "    ax2 = ax1  # instantiate a second axes that shares the same x-axis\n",
    "    ax2.plot(x, y2, color='tab:blue', label='ultra')\n",
    "    plt.legend()\n",
    "    plt.show()"
   ]
  },
  {
   "cell_type": "markdown",
   "metadata": {},
   "source": [
    "Среденемесячная выручка с Ультра выше, а смартовцы в среднем ежемесечно переплачивают абонентскую плату.\n",
    "\n",
    "В срднем пользоватали тарифа смарт выходят за пределы лимита по всем видам связи, тогда как в ультра в среднем не используют и половины лимита, особенно это заметно в смс. Возможно поэтому и отток из ультра больше ввиду того, что людям просто не нужен такой объем трафика.  \n",
    "\n",
    "Кажется, что в декабре не так много трафика, это связано с тем, что точка отсчета у всех пользователей разная и часть данных учитывается в пользу предыдущего месяца.   \n",
    "Также нужно учитывать что кол-во новых пользователей с каждым месяцем увеличивается, поэтому низкие показатели смс в марте-апреле может быть не информативны.  \n",
    "  \n",
    "Рассмотрим как в сумме менялся трафик за последние два месяца:  "
   ]
  },
  {
   "cell_type": "code",
   "execution_count": 38,
   "metadata": {},
   "outputs": [
    {
     "data": {
      "image/png": "[encoded data removed]",
      "text/plain": [
       "<Figure size 864x216 with 1 Axes>"
      ]
     },
     "metadata": {},
     "output_type": "display_data"
    }
   ],
   "source": [
    "groupped = df.groupby('date')[['mb_used']].sum().reset_index()\n",
    "groupped['month'] = pd.DatetimeIndex(pd.to_datetime(groupped['date'])).month\n",
    "\n",
    "x = groupped[(groupped['month'] == 11) | (groupped['month'] == 12)]['date'].unique()\n",
    "plt.plot(x, groupped[(groupped['month'] == 11) | (groupped['month'] == 12)]['mb_used'])\n",
    "plt.ylabel('mb_used')\n",
    "plt.xlabel('date')\n",
    "plt.xticks(rotation=90)\n",
    "plt.show()"
   ]
  },
  {
   "cell_type": "markdown",
   "metadata": {},
   "source": [
    "Под Новый Год виден явный пик"
   ]
  },
  {
   "cell_type": "code",
   "execution_count": 39,
   "metadata": {},
   "outputs": [
    {
     "name": "stdout",
     "output_type": "stream",
     "text": [
      "Распределение трафика в течение дня\n"
     ]
    },
    {
     "data": {
      "image/png": "[encoded data removed]",
      "text/plain": [
       "<Figure size 864x360 with 4 Axes>"
      ]
     },
     "metadata": {},
     "output_type": "display_data"
    }
   ],
   "source": [
    "print('Распределение трафика в течение дня')\n",
    "df[(df['date'] == '2018-12-31')][['calls_duration', 'messages', 'mb_used']].hist(bins=40, figsize=(12,5))\n",
    "plt.show()"
   ]
  },
  {
   "cell_type": "code",
   "execution_count": 40,
   "metadata": {},
   "outputs": [
    {
     "name": "stdout",
     "output_type": "stream",
     "text": [
      "Распределение трафика в течение дня исключая 0\n"
     ]
    },
    {
     "data": {
      "image/png": "[encoded data removed]",
      "text/plain": [
       "<Figure size 864x360 with 4 Axes>"
      ]
     },
     "metadata": {},
     "output_type": "display_data"
    }
   ],
   "source": [
    "print('Распределение трафика в течение дня исключая 0')\n",
    "df[(df['date'] == '2018-12-31')\n",
    "   & (df['calls_duration'] > 0)\n",
    "   & (df['messages'] > 0)\n",
    "   & (df['mb_used'] > 0)][['calls_duration', 'messages', 'mb_used']].hist(bins=40, figsize=(12,5))\n",
    "plt.show()"
   ]
  },
  {
   "cell_type": "markdown",
   "metadata": {},
   "source": [
    "Много коротких звонков с продолжительностью 0, также не понятно что значит интернет сессии 0 Мб.  \n",
    "В среднем клиенты \"Мегалайн\" разговаривают 20 мин в день. Чаще всего отрпавлюят 1 смс и используют до 1.5Гб за день."
   ]
  },
  {
   "cell_type": "markdown",
   "metadata": {},
   "source": [
    "## Посчитаем среднее, дисперсию и стандартное отклонение для выборки"
   ]
  },
  {
   "cell_type": "code",
   "execution_count": 41,
   "metadata": {},
   "outputs": [
    {
     "name": "stdout",
     "output_type": "stream",
     "text": [
      "Дисперсия по выручке для выборки 142029.52\n",
      "Стандартрое отклонение по выручке для выборки 376.87\n",
      "Среднее по выручке для выборки 1591.20\n",
      "\n"
     ]
    },
    {
     "data": {
      "text/html": [
       "<div>\n",
       "<style scoped>\n",
       "    .dataframe tbody tr th:only-of-type {\n",
       "        vertical-align: middle;\n",
       "    }\n",
       "\n",
       "    .dataframe tbody tr th {\n",
       "        vertical-align: top;\n",
       "    }\n",
       "\n",
       "    .dataframe thead th {\n",
       "        text-align: right;\n",
       "    }\n",
       "</style>\n",
       "<table border=\"1\" class=\"dataframe\">\n",
       "  <thead>\n",
       "    <tr style=\"text-align: right;\">\n",
       "      <th></th>\n",
       "      <th>month</th>\n",
       "      <th>calls_duration</th>\n",
       "      <th>calls_qty</th>\n",
       "      <th>mb_used</th>\n",
       "      <th>messages</th>\n",
       "      <th>revenue_per_month</th>\n",
       "    </tr>\n",
       "  </thead>\n",
       "  <tbody>\n",
       "    <tr>\n",
       "      <th>count</th>\n",
       "      <td>24.000000</td>\n",
       "      <td>24.000000</td>\n",
       "      <td>24.000000</td>\n",
       "      <td>24.000000</td>\n",
       "      <td>24.000000</td>\n",
       "      <td>24.000000</td>\n",
       "    </tr>\n",
       "    <tr>\n",
       "      <th>mean</th>\n",
       "      <td>6.500000</td>\n",
       "      <td>482.838085</td>\n",
       "      <td>67.296743</td>\n",
       "      <td>16811.959955</td>\n",
       "      <td>40.319161</td>\n",
       "      <td>1591.199604</td>\n",
       "    </tr>\n",
       "    <tr>\n",
       "      <th>std</th>\n",
       "      <td>3.526299</td>\n",
       "      <td>92.156763</td>\n",
       "      <td>12.766053</td>\n",
       "      <td>2020.520229</td>\n",
       "      <td>9.087568</td>\n",
       "      <td>384.973651</td>\n",
       "    </tr>\n",
       "    <tr>\n",
       "      <th>min</th>\n",
       "      <td>1.000000</td>\n",
       "      <td>260.189333</td>\n",
       "      <td>36.157333</td>\n",
       "      <td>9957.338667</td>\n",
       "      <td>20.810667</td>\n",
       "      <td>752.266667</td>\n",
       "    </tr>\n",
       "    <tr>\n",
       "      <th>25%</th>\n",
       "      <td>3.750000</td>\n",
       "      <td>429.730355</td>\n",
       "      <td>60.426948</td>\n",
       "      <td>16810.541877</td>\n",
       "      <td>35.092517</td>\n",
       "      <td>1273.681794</td>\n",
       "    </tr>\n",
       "    <tr>\n",
       "      <th>50%</th>\n",
       "      <td>6.500000</td>\n",
       "      <td>452.101281</td>\n",
       "      <td>63.427940</td>\n",
       "      <td>17282.142145</td>\n",
       "      <td>36.475323</td>\n",
       "      <td>1686.642395</td>\n",
       "    </tr>\n",
       "    <tr>\n",
       "      <th>75%</th>\n",
       "      <td>9.250000</td>\n",
       "      <td>564.480467</td>\n",
       "      <td>78.595585</td>\n",
       "      <td>17802.213592</td>\n",
       "      <td>46.341447</td>\n",
       "      <td>1950.000000</td>\n",
       "    </tr>\n",
       "    <tr>\n",
       "      <th>max</th>\n",
       "      <td>12.000000</td>\n",
       "      <td>656.000000</td>\n",
       "      <td>90.375000</td>\n",
       "      <td>18780.476190</td>\n",
       "      <td>57.418182</td>\n",
       "      <td>1950.000000</td>\n",
       "    </tr>\n",
       "  </tbody>\n",
       "</table>\n",
       "</div>"
      ],
      "text/plain": [
       "           month  calls_duration  calls_qty       mb_used   messages  \\\n",
       "count  24.000000       24.000000  24.000000     24.000000  24.000000   \n",
       "mean    6.500000      482.838085  67.296743  16811.959955  40.319161   \n",
       "std     3.526299       92.156763  12.766053   2020.520229   9.087568   \n",
       "min     1.000000      260.189333  36.157333   9957.338667  20.810667   \n",
       "25%     3.750000      429.730355  60.426948  16810.541877  35.092517   \n",
       "50%     6.500000      452.101281  63.427940  17282.142145  36.475323   \n",
       "75%     9.250000      564.480467  78.595585  17802.213592  46.341447   \n",
       "max    12.000000      656.000000  90.375000  18780.476190  57.418182   \n",
       "\n",
       "       revenue_per_month  \n",
       "count          24.000000  \n",
       "mean         1591.199604  \n",
       "std           384.973651  \n",
       "min           752.266667  \n",
       "25%          1273.681794  \n",
       "50%          1686.642395  \n",
       "75%          1950.000000  \n",
       "max          1950.000000  "
      ]
     },
     "execution_count": 41,
     "metadata": {},
     "output_type": "execute_result"
    }
   ],
   "source": [
    "variance_estimate = np.var(tariff_month['revenue_per_month'])  # дисперсия для выборки\n",
    "sd = np.std(tariff_month['revenue_per_month'])  # стандартное отклонение для выборки\n",
    "mean = tariff_month['revenue_per_month'].mean()  # среднее\n",
    "\n",
    "print('Дисперсия по выручке для выборки {:.2f}'.format(variance_estimate))\n",
    "print('Стандартрое отклонение по выручке для выборки {:.2f}'.format(sd))\n",
    "print('Среднее по выручке для выборки {:.2f}'.format(mean))\n",
    "print()\n",
    "\n",
    "tariff_month.describe()"
   ]
  },
  {
   "cell_type": "markdown",
   "metadata": {},
   "source": [
    "Посмотрим на статистики двух тарифов"
   ]
  },
  {
   "cell_type": "code",
   "execution_count": 42,
   "metadata": {},
   "outputs": [
    {
     "data": {
      "text/html": [
       "<div>\n",
       "<style scoped>\n",
       "    .dataframe tbody tr th:only-of-type {\n",
       "        vertical-align: middle;\n",
       "    }\n",
       "\n",
       "    .dataframe tbody tr th {\n",
       "        vertical-align: top;\n",
       "    }\n",
       "\n",
       "    .dataframe thead tr th {\n",
       "        text-align: left;\n",
       "    }\n",
       "\n",
       "    .dataframe thead tr:last-of-type th {\n",
       "        text-align: right;\n",
       "    }\n",
       "</style>\n",
       "<table border=\"1\" class=\"dataframe\">\n",
       "  <thead>\n",
       "    <tr>\n",
       "      <th></th>\n",
       "      <th>mean</th>\n",
       "      <th>median</th>\n",
       "      <th>std</th>\n",
       "      <th>var</th>\n",
       "    </tr>\n",
       "    <tr>\n",
       "      <th></th>\n",
       "      <th>revenue_per_month</th>\n",
       "      <th>revenue_per_month</th>\n",
       "      <th>revenue_per_month</th>\n",
       "      <th>revenue_per_month</th>\n",
       "    </tr>\n",
       "    <tr>\n",
       "      <th>tariff</th>\n",
       "      <th></th>\n",
       "      <th></th>\n",
       "      <th></th>\n",
       "      <th></th>\n",
       "    </tr>\n",
       "  </thead>\n",
       "  <tbody>\n",
       "    <tr>\n",
       "      <th>smart</th>\n",
       "      <td>1232.4</td>\n",
       "      <td>1269.25</td>\n",
       "      <td>170.29</td>\n",
       "      <td>29000.27</td>\n",
       "    </tr>\n",
       "    <tr>\n",
       "      <th>ultra</th>\n",
       "      <td>1950.0</td>\n",
       "      <td>1950.00</td>\n",
       "      <td>0.00</td>\n",
       "      <td>0.00</td>\n",
       "    </tr>\n",
       "  </tbody>\n",
       "</table>\n",
       "</div>"
      ],
      "text/plain": [
       "                    mean            median               std               var\n",
       "       revenue_per_month revenue_per_month revenue_per_month revenue_per_month\n",
       "tariff                                                                        \n",
       "smart             1232.4           1269.25            170.29          29000.27\n",
       "ultra             1950.0           1950.00              0.00              0.00"
      ]
     },
     "execution_count": 42,
     "metadata": {},
     "output_type": "execute_result"
    }
   ],
   "source": [
    "tariff_month.pivot_table(index='tariff', values='revenue_per_month', \n",
    "                         aggfunc=['mean', 'median', 'std', 'var']).round(2)"
   ]
  },
  {
   "cell_type": "markdown",
   "metadata": {},
   "source": [
    "Видно что у тарифа ultra разброс выручки меньше, а средняя выручка выше"
   ]
  },
  {
   "cell_type": "markdown",
   "metadata": {},
   "source": [
    "## Построим гистограммы и опишем распределение"
   ]
  },
  {
   "cell_type": "code",
   "execution_count": 43,
   "metadata": {},
   "outputs": [
    {
     "data": {
      "image/png": "[encoded data removed]",
      "text/plain": [
       "<Figure size 1080x288 with 1 Axes>"
      ]
     },
     "metadata": {},
     "output_type": "display_data"
    },
    {
     "data": {
      "image/png": "[encoded data removed]",
      "text/plain": [
       "<Figure size 1080x288 with 1 Axes>"
      ]
     },
     "metadata": {},
     "output_type": "display_data"
    },
    {
     "data": {
      "image/png": "[encoded data removed]",
      "text/plain": [
       "<Figure size 1080x288 with 1 Axes>"
      ]
     },
     "metadata": {},
     "output_type": "display_data"
    }
   ],
   "source": [
    "sns.set(rc={'figure.figsize': (15,4)})\n",
    "for col in ['calls_duration', 'mb_used', 'messages']:\n",
    "    ax = plt.gca()\n",
    "    ax.hist(good_user_month[good_user_month['tariff'] == 'smart'][col].values, alpha=0.8, bins=30)\n",
    "    ax.hist(good_user_month[good_user_month['tariff'] == 'ultra'][col].values, alpha=0.5, bins=30)\n",
    "    ax.legend(['smart','ultra'])\n",
    "    ax.set_title('Распределение ' + col + ' в течение месяца')\n",
    "    \n",
    "    plt.axvline(good_user_month[good_user_month['tariff'] == 'smart'][col].mean(), \n",
    "                color='black', linewidth='2', linestyle='dashed')\n",
    "    plt.axvline(good_user_month[good_user_month['tariff'] == 'smart'][col].median(), \n",
    "                color='g', linewidth='2', linestyle='dashed')\n",
    "    ax.text(good_user_month[good_user_month['tariff'] == 'smart'][col].mean(), 160, 'mean')\n",
    "    ax.text(good_user_month[good_user_month['tariff'] == 'smart'][col].median(), 140, 'median')\n",
    "    \n",
    "    plt.axvline(good_user_month[good_user_month['tariff'] == 'ultra'][col].mean(), \n",
    "                color='r', linewidth='2', linestyle='dashed')\n",
    "    plt.axvline(good_user_month[good_user_month['tariff'] == 'ultra'][col].median(), \n",
    "                color='b', linewidth='2', linestyle='dashed')\n",
    "    ax.text(good_user_month[good_user_month['tariff'] == 'ultra'][col].mean(), 120, 'mean_ultra')\n",
    "    ax.text(good_user_month[good_user_month['tariff'] == 'ultra'][col].median(), 100, 'median_ultra')\n",
    "    \n",
    "    plt.xlabel(col)\n",
    "    plt.ylabel('кол-во наблюдений пользователь-месяц')\n",
    "    \n",
    "    plt.show()"
   ]
  },
  {
   "cell_type": "markdown",
   "metadata": {},
   "source": [
    "Распределения для звонков и интернета нормальные"
   ]
  },
  {
   "cell_type": "markdown",
   "metadata": {},
   "source": [
    "## Сравним среднюю выручку тарифов по месяцам"
   ]
  },
  {
   "cell_type": "code",
   "execution_count": 44,
   "metadata": {},
   "outputs": [
    {
     "data": {
      "text/html": [
       "<style  type=\"text/css\" >\n",
       "    #T_e104cff6_60c4_11eb_b539_8c859067fd16row0_col0 {\n",
       "            width:  10em;\n",
       "             height:  80%;\n",
       "            background:  linear-gradient(90deg,#d65f5f 78.4%, transparent 78.4%);\n",
       "        }    #T_e104cff6_60c4_11eb_b539_8c859067fd16row0_col1 {\n",
       "            width:  10em;\n",
       "             height:  80%;\n",
       "        }    #T_e104cff6_60c4_11eb_b539_8c859067fd16row0_col2 {\n",
       "            width:  10em;\n",
       "             height:  80%;\n",
       "            background:  linear-gradient(90deg,#d65f5f 67.1%, transparent 67.1%);\n",
       "        }    #T_e104cff6_60c4_11eb_b539_8c859067fd16row1_col0 {\n",
       "            width:  10em;\n",
       "             height:  80%;\n",
       "            background:  linear-gradient(90deg,#d65f5f 63.6%, transparent 63.6%);\n",
       "        }    #T_e104cff6_60c4_11eb_b539_8c859067fd16row1_col1 {\n",
       "            width:  10em;\n",
       "             height:  80%;\n",
       "        }    #T_e104cff6_60c4_11eb_b539_8c859067fd16row1_col2 {\n",
       "            width:  10em;\n",
       "             height:  80%;\n",
       "            background:  linear-gradient(90deg,#d65f5f 62.4%, transparent 62.4%);\n",
       "        }    #T_e104cff6_60c4_11eb_b539_8c859067fd16row2_col0 {\n",
       "            width:  10em;\n",
       "             height:  80%;\n",
       "            background:  linear-gradient(90deg,#d65f5f 72.7%, transparent 72.7%);\n",
       "        }    #T_e104cff6_60c4_11eb_b539_8c859067fd16row2_col1 {\n",
       "            width:  10em;\n",
       "             height:  80%;\n",
       "        }    #T_e104cff6_60c4_11eb_b539_8c859067fd16row2_col2 {\n",
       "            width:  10em;\n",
       "             height:  80%;\n",
       "            background:  linear-gradient(90deg,#d65f5f 76.0%, transparent 76.0%);\n",
       "        }    #T_e104cff6_60c4_11eb_b539_8c859067fd16row3_col0 {\n",
       "            width:  10em;\n",
       "             height:  80%;\n",
       "            background:  linear-gradient(90deg,#d65f5f 54.6%, transparent 54.6%);\n",
       "        }    #T_e104cff6_60c4_11eb_b539_8c859067fd16row3_col1 {\n",
       "            width:  10em;\n",
       "             height:  80%;\n",
       "        }    #T_e104cff6_60c4_11eb_b539_8c859067fd16row3_col2 {\n",
       "            width:  10em;\n",
       "             height:  80%;\n",
       "            background:  linear-gradient(90deg,#d65f5f 57.5%, transparent 57.5%);\n",
       "        }    #T_e104cff6_60c4_11eb_b539_8c859067fd16row4_col0 {\n",
       "            width:  10em;\n",
       "             height:  80%;\n",
       "            background:  linear-gradient(90deg,#d65f5f 74.7%, transparent 74.7%);\n",
       "        }    #T_e104cff6_60c4_11eb_b539_8c859067fd16row4_col1 {\n",
       "            width:  10em;\n",
       "             height:  80%;\n",
       "        }    #T_e104cff6_60c4_11eb_b539_8c859067fd16row4_col2 {\n",
       "            width:  10em;\n",
       "             height:  80%;\n",
       "            background:  linear-gradient(90deg,#d65f5f 76.2%, transparent 76.2%);\n",
       "        }    #T_e104cff6_60c4_11eb_b539_8c859067fd16row5_col0 {\n",
       "            width:  10em;\n",
       "             height:  80%;\n",
       "            background:  linear-gradient(90deg,#d65f5f 75.7%, transparent 75.7%);\n",
       "        }    #T_e104cff6_60c4_11eb_b539_8c859067fd16row5_col1 {\n",
       "            width:  10em;\n",
       "             height:  80%;\n",
       "        }    #T_e104cff6_60c4_11eb_b539_8c859067fd16row5_col2 {\n",
       "            width:  10em;\n",
       "             height:  80%;\n",
       "            background:  linear-gradient(90deg,#d65f5f 80.5%, transparent 80.5%);\n",
       "        }    #T_e104cff6_60c4_11eb_b539_8c859067fd16row6_col0 {\n",
       "            width:  10em;\n",
       "             height:  80%;\n",
       "            background:  linear-gradient(90deg,#d65f5f 82.7%, transparent 82.7%);\n",
       "        }    #T_e104cff6_60c4_11eb_b539_8c859067fd16row6_col1 {\n",
       "            width:  10em;\n",
       "             height:  80%;\n",
       "        }    #T_e104cff6_60c4_11eb_b539_8c859067fd16row6_col2 {\n",
       "            width:  10em;\n",
       "             height:  80%;\n",
       "            background:  linear-gradient(90deg,#d65f5f 83.6%, transparent 83.6%);\n",
       "        }    #T_e104cff6_60c4_11eb_b539_8c859067fd16row7_col0 {\n",
       "            width:  10em;\n",
       "             height:  80%;\n",
       "            background:  linear-gradient(90deg,#d65f5f 81.2%, transparent 81.2%);\n",
       "        }    #T_e104cff6_60c4_11eb_b539_8c859067fd16row7_col1 {\n",
       "            width:  10em;\n",
       "             height:  80%;\n",
       "        }    #T_e104cff6_60c4_11eb_b539_8c859067fd16row7_col2 {\n",
       "            width:  10em;\n",
       "             height:  80%;\n",
       "            background:  linear-gradient(90deg,#d65f5f 82.8%, transparent 82.8%);\n",
       "        }    #T_e104cff6_60c4_11eb_b539_8c859067fd16row8_col0 {\n",
       "            width:  10em;\n",
       "             height:  80%;\n",
       "            background:  linear-gradient(90deg,#d65f5f 88.7%, transparent 88.7%);\n",
       "        }    #T_e104cff6_60c4_11eb_b539_8c859067fd16row8_col1 {\n",
       "            width:  10em;\n",
       "             height:  80%;\n",
       "        }    #T_e104cff6_60c4_11eb_b539_8c859067fd16row8_col2 {\n",
       "            width:  10em;\n",
       "             height:  80%;\n",
       "            background:  linear-gradient(90deg,#d65f5f 91.2%, transparent 91.2%);\n",
       "        }    #T_e104cff6_60c4_11eb_b539_8c859067fd16row9_col0 {\n",
       "            width:  10em;\n",
       "             height:  80%;\n",
       "            background:  linear-gradient(90deg,#d65f5f 86.3%, transparent 86.3%);\n",
       "        }    #T_e104cff6_60c4_11eb_b539_8c859067fd16row9_col1 {\n",
       "            width:  10em;\n",
       "             height:  80%;\n",
       "        }    #T_e104cff6_60c4_11eb_b539_8c859067fd16row9_col2 {\n",
       "            width:  10em;\n",
       "             height:  80%;\n",
       "            background:  linear-gradient(90deg,#d65f5f 84.4%, transparent 84.4%);\n",
       "        }    #T_e104cff6_60c4_11eb_b539_8c859067fd16row10_col0 {\n",
       "            width:  10em;\n",
       "             height:  80%;\n",
       "            background:  linear-gradient(90deg,#d65f5f 100.0%, transparent 100.0%);\n",
       "        }    #T_e104cff6_60c4_11eb_b539_8c859067fd16row10_col1 {\n",
       "            width:  10em;\n",
       "             height:  80%;\n",
       "        }    #T_e104cff6_60c4_11eb_b539_8c859067fd16row10_col2 {\n",
       "            width:  10em;\n",
       "             height:  80%;\n",
       "            background:  linear-gradient(90deg,#d65f5f 100.0%, transparent 100.0%);\n",
       "        }    #T_e104cff6_60c4_11eb_b539_8c859067fd16row11_col0 {\n",
       "            width:  10em;\n",
       "             height:  80%;\n",
       "        }    #T_e104cff6_60c4_11eb_b539_8c859067fd16row11_col1 {\n",
       "            width:  10em;\n",
       "             height:  80%;\n",
       "        }    #T_e104cff6_60c4_11eb_b539_8c859067fd16row11_col2 {\n",
       "            width:  10em;\n",
       "             height:  80%;\n",
       "        }    #T_e104cff6_60c4_11eb_b539_8c859067fd16row12_col0 {\n",
       "            width:  10em;\n",
       "             height:  80%;\n",
       "            background:  linear-gradient(90deg,#d65f5f 69.0%, transparent 69.0%);\n",
       "        }    #T_e104cff6_60c4_11eb_b539_8c859067fd16row12_col1 {\n",
       "            width:  10em;\n",
       "             height:  80%;\n",
       "        }    #T_e104cff6_60c4_11eb_b539_8c859067fd16row12_col2 {\n",
       "            width:  10em;\n",
       "             height:  80%;\n",
       "            background:  linear-gradient(90deg,#d65f5f 69.6%, transparent 69.6%);\n",
       "        }</style><table id=\"T_e104cff6_60c4_11eb_b539_8c859067fd16\" ><thead>    <tr>        <th class=\"index_name level0\" >tariff</th>        <th class=\"col_heading level0 col0\" >smart</th>        <th class=\"col_heading level0 col1\" >ultra</th>        <th class=\"col_heading level0 col2\" >All</th>    </tr>    <tr>        <th class=\"index_name level0\" >month</th>        <th class=\"blank\" ></th>        <th class=\"blank\" ></th>        <th class=\"blank\" ></th>    </tr></thead><tbody>\n",
       "                <tr>\n",
       "                        <th id=\"T_e104cff6_60c4_11eb_b539_8c859067fd16level0_row0\" class=\"row_heading level0 row0\" >1</th>\n",
       "                        <td id=\"T_e104cff6_60c4_11eb_b539_8c859067fd16row0_col0\" class=\"data row0 col0\" >1278.117647</td>\n",
       "                        <td id=\"T_e104cff6_60c4_11eb_b539_8c859067fd16row0_col1\" class=\"data row0 col1\" >1950.000000</td>\n",
       "                        <td id=\"T_e104cff6_60c4_11eb_b539_8c859067fd16row0_col2\" class=\"data row0 col2\" >1406.095238</td>\n",
       "            </tr>\n",
       "            <tr>\n",
       "                        <th id=\"T_e104cff6_60c4_11eb_b539_8c859067fd16level0_row1\" class=\"row_heading level0 row1\" >2</th>\n",
       "                        <td id=\"T_e104cff6_60c4_11eb_b539_8c859067fd16row1_col0\" class=\"data row1 col0\" >1178.879310</td>\n",
       "                        <td id=\"T_e104cff6_60c4_11eb_b539_8c859067fd16row1_col1\" class=\"data row1 col1\" >1950.000000</td>\n",
       "                        <td id=\"T_e104cff6_60c4_11eb_b539_8c859067fd16row1_col2\" class=\"data row1 col2\" >1383.860759</td>\n",
       "            </tr>\n",
       "            <tr>\n",
       "                        <th id=\"T_e104cff6_60c4_11eb_b539_8c859067fd16level0_row2\" class=\"row_heading level0 row2\" >3</th>\n",
       "                        <td id=\"T_e104cff6_60c4_11eb_b539_8c859067fd16row2_col0\" class=\"data row2 col0\" >1239.961039</td>\n",
       "                        <td id=\"T_e104cff6_60c4_11eb_b539_8c859067fd16row2_col1\" class=\"data row2 col1\" >1950.000000</td>\n",
       "                        <td id=\"T_e104cff6_60c4_11eb_b539_8c859067fd16row2_col2\" class=\"data row2 col2\" >1448.412844</td>\n",
       "            </tr>\n",
       "            <tr>\n",
       "                        <th id=\"T_e104cff6_60c4_11eb_b539_8c859067fd16level0_row3\" class=\"row_heading level0 row3\" >4</th>\n",
       "                        <td id=\"T_e104cff6_60c4_11eb_b539_8c859067fd16row3_col0\" class=\"data row3 col0\" >1118.776786</td>\n",
       "                        <td id=\"T_e104cff6_60c4_11eb_b539_8c859067fd16row3_col1\" class=\"data row3 col1\" >1950.000000</td>\n",
       "                        <td id=\"T_e104cff6_60c4_11eb_b539_8c859067fd16row3_col2\" class=\"data row3 col2\" >1360.778481</td>\n",
       "            </tr>\n",
       "            <tr>\n",
       "                        <th id=\"T_e104cff6_60c4_11eb_b539_8c859067fd16level0_row4\" class=\"row_heading level0 row4\" >5</th>\n",
       "                        <td id=\"T_e104cff6_60c4_11eb_b539_8c859067fd16row4_col0\" class=\"data row4 col0\" >1253.602837</td>\n",
       "                        <td id=\"T_e104cff6_60c4_11eb_b539_8c859067fd16row4_col1\" class=\"data row4 col1\" >1950.000000</td>\n",
       "                        <td id=\"T_e104cff6_60c4_11eb_b539_8c859067fd16row4_col2\" class=\"data row4 col2\" >1449.020408</td>\n",
       "            </tr>\n",
       "            <tr>\n",
       "                        <th id=\"T_e104cff6_60c4_11eb_b539_8c859067fd16level0_row5\" class=\"row_heading level0 row5\" >6</th>\n",
       "                        <td id=\"T_e104cff6_60c4_11eb_b539_8c859067fd16row5_col0\" class=\"data row5 col0\" >1260.374233</td>\n",
       "                        <td id=\"T_e104cff6_60c4_11eb_b539_8c859067fd16row5_col1\" class=\"data row5 col1\" >1950.000000</td>\n",
       "                        <td id=\"T_e104cff6_60c4_11eb_b539_8c859067fd16row5_col2\" class=\"data row5 col2\" >1469.619658</td>\n",
       "            </tr>\n",
       "            <tr>\n",
       "                        <th id=\"T_e104cff6_60c4_11eb_b539_8c859067fd16level0_row6\" class=\"row_heading level0 row6\" >7</th>\n",
       "                        <td id=\"T_e104cff6_60c4_11eb_b539_8c859067fd16row6_col0\" class=\"data row6 col0\" >1307.365000</td>\n",
       "                        <td id=\"T_e104cff6_60c4_11eb_b539_8c859067fd16row6_col1\" class=\"data row6 col1\" >1950.000000</td>\n",
       "                        <td id=\"T_e104cff6_60c4_11eb_b539_8c859067fd16row6_col2\" class=\"data row6 col2\" >1484.322464</td>\n",
       "            </tr>\n",
       "            <tr>\n",
       "                        <th id=\"T_e104cff6_60c4_11eb_b539_8c859067fd16level0_row7\" class=\"row_heading level0 row7\" >8</th>\n",
       "                        <td id=\"T_e104cff6_60c4_11eb_b539_8c859067fd16row7_col0\" class=\"data row7 col0\" >1297.240343</td>\n",
       "                        <td id=\"T_e104cff6_60c4_11eb_b539_8c859067fd16row7_col1\" class=\"data row7 col1\" >1950.000000</td>\n",
       "                        <td id=\"T_e104cff6_60c4_11eb_b539_8c859067fd16row7_col2\" class=\"data row7 col2\" >1480.577160</td>\n",
       "            </tr>\n",
       "            <tr>\n",
       "                        <th id=\"T_e104cff6_60c4_11eb_b539_8c859067fd16level0_row8\" class=\"row_heading level0 row8\" >9</th>\n",
       "                        <td id=\"T_e104cff6_60c4_11eb_b539_8c859067fd16row8_col0\" class=\"data row8 col0\" >1347.700389</td>\n",
       "                        <td id=\"T_e104cff6_60c4_11eb_b539_8c859067fd16row8_col1\" class=\"data row8 col1\" >1950.000000</td>\n",
       "                        <td id=\"T_e104cff6_60c4_11eb_b539_8c859067fd16row8_col2\" class=\"data row8 col2\" >1520.025000</td>\n",
       "            </tr>\n",
       "            <tr>\n",
       "                        <th id=\"T_e104cff6_60c4_11eb_b539_8c859067fd16level0_row9\" class=\"row_heading level0 row9\" >10</th>\n",
       "                        <td id=\"T_e104cff6_60c4_11eb_b539_8c859067fd16row9_col0\" class=\"data row9 col0\" >1331.221453</td>\n",
       "                        <td id=\"T_e104cff6_60c4_11eb_b539_8c859067fd16row9_col1\" class=\"data row9 col1\" >1950.000000</td>\n",
       "                        <td id=\"T_e104cff6_60c4_11eb_b539_8c859067fd16row9_col2\" class=\"data row9 col2\" >1487.914729</td>\n",
       "            </tr>\n",
       "            <tr>\n",
       "                        <th id=\"T_e104cff6_60c4_11eb_b539_8c859067fd16level0_row10\" class=\"row_heading level0 row10\" >11</th>\n",
       "                        <td id=\"T_e104cff6_60c4_11eb_b539_8c859067fd16row10_col0\" class=\"data row10 col0\" >1423.284790</td>\n",
       "                        <td id=\"T_e104cff6_60c4_11eb_b539_8c859067fd16row10_col1\" class=\"data row10 col1\" >1950.000000</td>\n",
       "                        <td id=\"T_e104cff6_60c4_11eb_b539_8c859067fd16row10_col2\" class=\"data row10 col2\" >1561.563246</td>\n",
       "            </tr>\n",
       "            <tr>\n",
       "                        <th id=\"T_e104cff6_60c4_11eb_b539_8c859067fd16level0_row11\" class=\"row_heading level0 row11\" >12</th>\n",
       "                        <td id=\"T_e104cff6_60c4_11eb_b539_8c859067fd16row11_col0\" class=\"data row11 col0\" >752.266667</td>\n",
       "                        <td id=\"T_e104cff6_60c4_11eb_b539_8c859067fd16row11_col1\" class=\"data row11 col1\" >1950.000000</td>\n",
       "                        <td id=\"T_e104cff6_60c4_11eb_b539_8c859067fd16row11_col2\" class=\"data row11 col2\" >1089.559387</td>\n",
       "            </tr>\n",
       "            <tr>\n",
       "                        <th id=\"T_e104cff6_60c4_11eb_b539_8c859067fd16level0_row12\" class=\"row_heading level0 row12\" >All</th>\n",
       "                        <td id=\"T_e104cff6_60c4_11eb_b539_8c859067fd16row12_col0\" class=\"data row12 col0\" >1215.087633</td>\n",
       "                        <td id=\"T_e104cff6_60c4_11eb_b539_8c859067fd16row12_col1\" class=\"data row12 col1\" >1950.000000</td>\n",
       "                        <td id=\"T_e104cff6_60c4_11eb_b539_8c859067fd16row12_col2\" class=\"data row12 col2\" >1418.099485</td>\n",
       "            </tr>\n",
       "    </tbody></table>"
      ],
      "text/plain": [
       "<pandas.io.formats.style.Styler at 0x1a21c54bd0>"
      ]
     },
     "execution_count": 44,
     "metadata": {},
     "output_type": "execute_result"
    }
   ],
   "source": [
    "good_user_month[['month', 'tariff', 'revenue_per_month']] \\\n",
    ".pivot_table(index='month', columns='tariff', values='revenue_per_month', margins=True) \\\n",
    ".style.bar()"
   ]
  },
  {
   "cell_type": "code",
   "execution_count": 45,
   "metadata": {},
   "outputs": [
    {
     "name": "stdout",
     "output_type": "stream",
     "text": [
      "Выручка по тарифу смарт за 2018 год составила: 2731517\n",
      "Выручка по тарифу ультра за 2018 год составила: 1673100\n"
     ]
    }
   ],
   "source": [
    "print('Выручка по тарифу смарт за 2018 год составила:', good_user_month[good_user_month['tariff'] == 'smart']['revenue_per_month'].sum())\n",
    "print('Выручка по тарифу ультра за 2018 год составила:', good_user_month[good_user_month['tariff'] == 'ultra']['revenue_per_month'].sum())"
   ]
  },
  {
   "cell_type": "markdown",
   "metadata": {},
   "source": [
    "Средняя выручка в месяц по тарифу `ultra` выше, но смарт более популярный и в сумме за 2018 принес больше денег"
   ]
  },
  {
   "cell_type": "code",
   "execution_count": 46,
   "metadata": {},
   "outputs": [
    {
     "data": {
      "image/png": "[encoded data removed]",
      "text/plain": [
       "<Figure size 1080x288 with 1 Axes>"
      ]
     },
     "metadata": {},
     "output_type": "display_data"
    }
   ],
   "source": [
    "smart = good_user_month[good_user_month['tariff'] == 'smart']\n",
    "ultra = good_user_month[good_user_month['tariff'] == 'ultra']\n",
    "\n",
    "smart['revenue_per_month'].hist(bins=40,alpha=0.8)\n",
    "ultra['revenue_per_month'].hist(bins=40)\n",
    "plt.xlabel('выручка в месяц')\n",
    "plt.ylabel('кол-во наблюдений пользователь-месяц')\n",
    "plt.title('Распределение срднемесячной выручки')\n",
    "plt.show()"
   ]
  },
  {
   "cell_type": "markdown",
   "metadata": {},
   "source": [
    "Рассмотрим среднемесячную выручку в Москве, Санкт-Петербурге и других городах"
   ]
  },
  {
   "cell_type": "code",
   "execution_count": 47,
   "metadata": {},
   "outputs": [
    {
     "data": {
      "text/html": [
       "<style  type=\"text/css\" >\n",
       "    #T_e14ab35e_60c4_11eb_b539_8c859067fd16row0_col0 {\n",
       "            width:  10em;\n",
       "             height:  80%;\n",
       "        }    #T_e14ab35e_60c4_11eb_b539_8c859067fd16row0_col1 {\n",
       "            width:  10em;\n",
       "             height:  80%;\n",
       "        }    #T_e14ab35e_60c4_11eb_b539_8c859067fd16row0_col2 {\n",
       "            width:  10em;\n",
       "             height:  80%;\n",
       "            background:  linear-gradient(90deg,#d65f5f 46.2%, transparent 46.2%);\n",
       "        }    #T_e14ab35e_60c4_11eb_b539_8c859067fd16row1_col0 {\n",
       "            width:  10em;\n",
       "             height:  80%;\n",
       "            background:  linear-gradient(90deg,#d65f5f 100.0%, transparent 100.0%);\n",
       "        }    #T_e14ab35e_60c4_11eb_b539_8c859067fd16row1_col1 {\n",
       "            width:  10em;\n",
       "             height:  80%;\n",
       "        }    #T_e14ab35e_60c4_11eb_b539_8c859067fd16row1_col2 {\n",
       "            width:  10em;\n",
       "             height:  80%;\n",
       "            background:  linear-gradient(90deg,#d65f5f 100.0%, transparent 100.0%);\n",
       "        }    #T_e14ab35e_60c4_11eb_b539_8c859067fd16row2_col0 {\n",
       "            width:  10em;\n",
       "             height:  80%;\n",
       "            background:  linear-gradient(90deg,#d65f5f 14.7%, transparent 14.7%);\n",
       "        }    #T_e14ab35e_60c4_11eb_b539_8c859067fd16row2_col1 {\n",
       "            width:  10em;\n",
       "             height:  80%;\n",
       "        }    #T_e14ab35e_60c4_11eb_b539_8c859067fd16row2_col2 {\n",
       "            width:  10em;\n",
       "             height:  80%;\n",
       "        }    #T_e14ab35e_60c4_11eb_b539_8c859067fd16row3_col0 {\n",
       "            width:  10em;\n",
       "             height:  80%;\n",
       "            background:  linear-gradient(90deg,#d65f5f 20.1%, transparent 20.1%);\n",
       "        }    #T_e14ab35e_60c4_11eb_b539_8c859067fd16row3_col1 {\n",
       "            width:  10em;\n",
       "             height:  80%;\n",
       "        }    #T_e14ab35e_60c4_11eb_b539_8c859067fd16row3_col2 {\n",
       "            width:  10em;\n",
       "             height:  80%;\n",
       "            background:  linear-gradient(90deg,#d65f5f 16.9%, transparent 16.9%);\n",
       "        }</style><table id=\"T_e14ab35e_60c4_11eb_b539_8c859067fd16\" ><thead>    <tr>        <th class=\"index_name level0\" >tariff</th>        <th class=\"col_heading level0 col0\" >smart</th>        <th class=\"col_heading level0 col1\" >ultra</th>        <th class=\"col_heading level0 col2\" >All</th>    </tr>    <tr>        <th class=\"index_name level0\" >city_group</th>        <th class=\"blank\" ></th>        <th class=\"blank\" ></th>        <th class=\"blank\" ></th>    </tr></thead><tbody>\n",
       "                <tr>\n",
       "                        <th id=\"T_e14ab35e_60c4_11eb_b539_8c859067fd16level0_row0\" class=\"row_heading level0 row0\" >Москва</th>\n",
       "                        <td id=\"T_e14ab35e_60c4_11eb_b539_8c859067fd16row0_col0\" class=\"data row0 col0\" >1180.148718</td>\n",
       "                        <td id=\"T_e14ab35e_60c4_11eb_b539_8c859067fd16row0_col1\" class=\"data row0 col1\" >1950.000000</td>\n",
       "                        <td id=\"T_e14ab35e_60c4_11eb_b539_8c859067fd16row0_col2\" class=\"data row0 col2\" >1432.341379</td>\n",
       "            </tr>\n",
       "            <tr>\n",
       "                        <th id=\"T_e14ab35e_60c4_11eb_b539_8c859067fd16level0_row1\" class=\"row_heading level0 row1\" >Санкт-Петербург</th>\n",
       "                        <td id=\"T_e14ab35e_60c4_11eb_b539_8c859067fd16row1_col0\" class=\"data row1 col0\" >1353.563981</td>\n",
       "                        <td id=\"T_e14ab35e_60c4_11eb_b539_8c859067fd16row1_col1\" class=\"data row1 col1\" >1950.000000</td>\n",
       "                        <td id=\"T_e14ab35e_60c4_11eb_b539_8c859067fd16row1_col2\" class=\"data row1 col2\" >1458.406250</td>\n",
       "            </tr>\n",
       "            <tr>\n",
       "                        <th id=\"T_e14ab35e_60c4_11eb_b539_8c859067fd16level0_row2\" class=\"row_heading level0 row2\" >другие</th>\n",
       "                        <td id=\"T_e14ab35e_60c4_11eb_b539_8c859067fd16row2_col0\" class=\"data row2 col0\" >1205.620522</td>\n",
       "                        <td id=\"T_e14ab35e_60c4_11eb_b539_8c859067fd16row2_col1\" class=\"data row2 col1\" >1950.000000</td>\n",
       "                        <td id=\"T_e14ab35e_60c4_11eb_b539_8c859067fd16row2_col2\" class=\"data row2 col2\" >1409.914978</td>\n",
       "            </tr>\n",
       "            <tr>\n",
       "                        <th id=\"T_e14ab35e_60c4_11eb_b539_8c859067fd16level0_row3\" class=\"row_heading level0 row3\" >All</th>\n",
       "                        <td id=\"T_e14ab35e_60c4_11eb_b539_8c859067fd16row3_col0\" class=\"data row3 col0\" >1215.087633</td>\n",
       "                        <td id=\"T_e14ab35e_60c4_11eb_b539_8c859067fd16row3_col1\" class=\"data row3 col1\" >1950.000000</td>\n",
       "                        <td id=\"T_e14ab35e_60c4_11eb_b539_8c859067fd16row3_col2\" class=\"data row3 col2\" >1418.099485</td>\n",
       "            </tr>\n",
       "    </tbody></table>"
      ],
      "text/plain": [
       "<pandas.io.formats.style.Styler at 0x1a22260150>"
      ]
     },
     "execution_count": 47,
     "metadata": {},
     "output_type": "execute_result"
    }
   ],
   "source": [
    "good_user_month[['city_group', 'tariff', 'revenue_per_month']] \\\n",
    ".pivot_table(index='city_group', columns='tariff', values='revenue_per_month', margins=True) \\\n",
    ".style.bar()"
   ]
  },
  {
   "cell_type": "markdown",
   "metadata": {},
   "source": [
    "Интересно, что в Питере средняя выручка в месяц выше, чем в других городах. Дальше проверим случайно ли это.  "
   ]
  },
  {
   "cell_type": "markdown",
   "metadata": {},
   "source": [
    "## Вывод\n",
    "\n",
    "- Есть тревожные показатели в динамике притока новых клиентов. Нужно выгрузить выборки за 3-4 года и посмотреть прослеживается ли сезонность по году. А может мы увидем, что есть проблемы с привлечением новых пользователей.  \n",
    "- Наименнее популярный вид связи - смс, а наиболее популярный - интернет\n",
    "- Большая часть пользователей из Москвы, но среднемесячная выручка больше в Питере\n",
    "- Более чем в 50% наблюдений тарифа смарт есть перерасход лимита, тогда как в ультра пользователи используют больше трафика но не достигая лимита\n",
    "- Среднемесячная вырчка смарт с одного пользователя составляет примерно 1200 руб, а тарифа ультра - 2000 руб."
   ]
  },
  {
   "cell_type": "markdown",
   "metadata": {},
   "source": [
    "<a id='4'></a>\n",
    "# Этап 4. Проверка гипотез"
   ]
  },
  {
   "cell_type": "markdown",
   "metadata": {},
   "source": [
    "## Средняя выручка пользователей тарифов «Ультра» и «Смарт»\n",
    "Сформулируем нулевую гипотезу **Но** так, чтобы использовать знак равенста: *«Среднии выручки пользователей тарифов «Ультра» и «Смарт» равны»*. Исходя из Но сформулируем альтернативную гипотезу **Н1**: *«Средняя выручка пользователей тарифов «Ультра» и «Смарт» различается»*."
   ]
  },
  {
   "cell_type": "markdown",
   "metadata": {},
   "source": [
    "### 1. Проверяем нормальность распределения с помощью QQ-plot"
   ]
  },
  {
   "cell_type": "code",
   "execution_count": 48,
   "metadata": {},
   "outputs": [
    {
     "data": {
      "image/png": "[encoded data removed]",
      "text/plain": [
       "<Figure size 1080x288 with 1 Axes>"
      ]
     },
     "metadata": {},
     "output_type": "display_data"
    }
   ],
   "source": [
    "st.probplot(good_smart['revenue_per_month'], plot=sns.mpl.pyplot)\n",
    "st.probplot(good_ultra['revenue_per_month'], plot=sns.mpl.pyplot)\n",
    "plt.show()"
   ]
  },
  {
   "cell_type": "markdown",
   "metadata": {},
   "source": [
    "Большинство точек не попадает на прямую, не похоже на нормальную тенденцию, следует проветси другие тесты нормальности"
   ]
  },
  {
   "cell_type": "markdown",
   "metadata": {},
   "source": [
    "### 2. Проверяем дисперсию с помощью критерий Фишера и в соответствии с этим корректируем параметр equal_var"
   ]
  },
  {
   "cell_type": "code",
   "execution_count": 49,
   "metadata": {},
   "outputs": [
    {
     "name": "stdout",
     "output_type": "stream",
     "text": [
      "1.2777178472971353 0.0013289334760626399\n"
     ]
    }
   ],
   "source": [
    "test = good_user_month.groupby('tariff')[['calls_duration','revenue_per_month']].mean()\n",
    "oddsratio, pvalue = st.fisher_exact(test, alternative='two-sided')\n",
    "print(oddsratio, pvalue)"
   ]
  },
  {
   "cell_type": "markdown",
   "metadata": {},
   "source": [
    "### 3. Проводим статистический тест"
   ]
  },
  {
   "cell_type": "markdown",
   "metadata": {},
   "source": [
    "Для сравнения мат. ожидания между двумя выборками используем Т-критерий Стьюдента.\n",
    "\n",
    "Сформулируем нулевую гипотезу **Но** так, чтобы использовать знак равенста: *«Среднии выручки пользователей тарифов «Ультра» и «Смарт» равны»*. Исходя из Но сформулируем альтернативную гипотезу **Н1**: *«Средняя выручка пользователей тарифов «Ультра» и «Смарт» различается»*.\n",
    "\n",
    "Чтобы проверить гипотезу о равенстве средних двух генеральных совокупностей по взятым из них выборкам, используем метод `scipy.stats.ttest_ind (array1, array2, equal_var)`.\n",
    "\n",
    "Преположительно выборки взяты из схожих по параметрам совокупностей, поэтому оставим параметр equal_var = True."
   ]
  },
  {
   "cell_type": "code",
   "execution_count": 50,
   "metadata": {},
   "outputs": [
    {
     "name": "stdout",
     "output_type": "stream",
     "text": [
      "p-значение: 5.534750679965596e-172\n",
      "Отвергаем нулевую гипотезу\n"
     ]
    }
   ],
   "source": [
    "alpha = 0.01  # критический уровень статистической значимости\n",
    "              # если p-value окажется меньше него - отвергнем гипотезу\n",
    "\n",
    "results = st.ttest_ind(good_smart['revenue_per_month'], good_ultra['revenue_per_month'])\n",
    "\n",
    "print('p-значение:', results.pvalue)\n",
    "if (results.pvalue < alpha):\n",
    "    print(\"Отвергаем нулевую гипотезу\")\n",
    "else:\n",
    "    print(\"Не получилось отвергнуть нулевую гипотезу\")"
   ]
  },
  {
   "cell_type": "markdown",
   "metadata": {},
   "source": [
    "Уровень значимости очень мал, поэтому отвергаем нулевую гипотезу о равенстве средней выручке двух тарифов. "
   ]
  },
  {
   "cell_type": "markdown",
   "metadata": {},
   "source": [
    "## Средняя выручка пользователей из Москвы и других регионов"
   ]
  },
  {
   "cell_type": "markdown",
   "metadata": {},
   "source": [
    "* Сравним Москву и Питер  \n",
    "H0: Средняя выручка пользователей из Москвы и Питера одинаковая.    \n",
    "Н1: Средняя выручка пользователей из Москвы и Питера различается.   "
   ]
  },
  {
   "cell_type": "code",
   "execution_count": 51,
   "metadata": {},
   "outputs": [
    {
     "name": "stdout",
     "output_type": "stream",
     "text": [
      "p-значение: 0.6163698838077878\n",
      "Не получилось отвергнуть нулевую гипотезу\n"
     ]
    }
   ],
   "source": [
    "Moscow = good_user_month[good_user_month['city_group'] == 'Москва']\n",
    "St_Petersburg = good_user_month[good_user_month['city_group'] == 'Санкт-Петербург']\n",
    "other_city = good_user_month[good_user_month['city_group'] == 'другие']\n",
    "\n",
    "alpha = 0.01  # критический уровень статистической значимости\n",
    "              # если p-value окажется меньше него - отвергнем гипотезу\n",
    "\n",
    "results = st.ttest_ind(Moscow['revenue_per_month'], St_Petersburg['revenue_per_month'])\n",
    "\n",
    "print('p-значение:', results.pvalue)\n",
    "if (results.pvalue < alpha):\n",
    "    print(\"Отвергаем нулевую гипотезу\")\n",
    "else:\n",
    "    print(\"Не получилось отвергнуть нулевую гипотезу\")"
   ]
  },
  {
   "cell_type": "markdown",
   "metadata": {},
   "source": [
    "* Сравним Москву и другие города  \n",
    "H0: Средняя выручка пользователей из Москвы и других городов одинаковая.     \n",
    "Н1: Средняя выручка пользователей из Москвы и других городов различается.   "
   ]
  },
  {
   "cell_type": "code",
   "execution_count": 52,
   "metadata": {},
   "outputs": [
    {
     "name": "stdout",
     "output_type": "stream",
     "text": [
      "p-значение: 0.4847195170525267\n",
      "Не получилось отвергнуть нулевую гипотезу\n"
     ]
    }
   ],
   "source": [
    "alpha = 0.01  # критический уровень статистической значимости\n",
    "              # если p-value окажется меньше него - отвергнем гипотезу\n",
    "\n",
    "results = st.ttest_ind(Moscow['revenue_per_month'], other_city['revenue_per_month'])\n",
    "\n",
    "print('p-значение:', results.pvalue)\n",
    "if (results.pvalue < alpha):\n",
    "    print(\"Отвергаем нулевую гипотезу\")\n",
    "else:\n",
    "    print(\"Не получилось отвергнуть нулевую гипотезу\")"
   ]
  },
  {
   "cell_type": "markdown",
   "metadata": {},
   "source": [
    "Полученное значение p-value говорит о том, что хотя средняя выручка Москвы, Питера и других городов неодинакова, с вероятностью в почти 30% такое или большее различие можно получить случайно. Это явно слишком большая вероятность, чтобы делать вывод о значимом различии между средними выручками."
   ]
  },
  {
   "cell_type": "markdown",
   "metadata": {},
   "source": [
    "<a id='5'></a>\n",
    "# Общие Выводы"
   ]
  },
  {
   "cell_type": "markdown",
   "metadata": {},
   "source": [
    "По результатам статистических тестов, нам не удалось подтвердить гипотезу о равенстве средней выручки двух тарифов и можно с большой вероятностью говорить о наличии разницы между этими двумя тарифами. Также не удалось отвергнуть гипотезу о равенстве средней выручки в Москве и регионах.\n",
    "\n",
    "Больше чем в 50% наблюдений тарифа Смарт переплата составляет более 400руб, тогда как пользователи Ультра не расходуют и половины лимита. Если учесть, что на каждого пользователя тарифа ультра приходится 2 пользователя тарифа смарт, а также учитывая большой отток клиентов из тарифа ультра, можно сказать что смарт выглядит более привлекательным для пользователей вне зависимости от региона.\n",
    "\n",
    "При этом стоит учитывать, что среднемесячная выручка с Ультра выше почти в два раза. Плюс зная, что пользователям тарифа Смарт не хватает лимитов, возможно стоит начать рекламную компанию с этого тарифа."
   ]
  }
 ],
 "metadata": {
  "kernelspec": {
   "display_name": "Python 3",
   "language": "python",
   "name": "python3"
  },
  "language_info": {
   "codemirror_mode": {
    "name": "ipython",
    "version": 3
   },
   "file_extension": ".py",
   "mimetype": "text/x-python",
   "name": "python",
   "nbconvert_exporter": "python",
   "pygments_lexer": "ipython3",
   "version": "3.7.6"
  }
 },
 "nbformat": 4,
 "nbformat_minor": 4
}
